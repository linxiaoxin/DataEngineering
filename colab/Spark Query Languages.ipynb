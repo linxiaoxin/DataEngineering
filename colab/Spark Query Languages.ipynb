{
  "nbformat": 4,
  "nbformat_minor": 0,
  "metadata": {
    "colab": {
      "provenance": [],
      "include_colab_link": true
    },
    "kernelspec": {
      "name": "python3",
      "display_name": "Python 3"
    },
    "language_info": {
      "name": "python"
    }
  },
  "cells": [
    {
      "cell_type": "markdown",
      "metadata": {
        "id": "view-in-github",
        "colab_type": "text"
      },
      "source": [
        "<a href=\"https://colab.research.google.com/github/linxiaoxin/DataEngineering/blob/main/colab/Spark%20Query%20Languages.ipynb\" target=\"_parent\"><img src=\"https://colab.research.google.com/assets/colab-badge.svg\" alt=\"Open In Colab\"/></a>"
      ]
    },
    {
      "cell_type": "markdown",
      "source": [
        "# Introduction\n",
        "PySpark provides interface used to load DataFrame from external storage systems. We will learn how to read different data format files into DataFrame and write DataFrame back to different data format files using PySpark examples. Lastly, we will learn how to transfer data between JVM and Python processes using Apache Arrow efficiently."
      ],
      "metadata": {
        "id": "sVqS3ArJMe10"
      }
    },
    {
      "cell_type": "code",
      "source": [
        "# install pyspark using pip\n",
        "!pip install --ignore-install -q pyspark\n",
        "# install findspark using pip\n",
        "!pip install --ignore-install -q findspark\n",
        "\n",
        "#from pyspark import SparkConf,SparkContext\n",
        "from pyspark.sql import SparkSession\n",
        "import collections\n",
        "spark = SparkSession.builder.master(\"local\").appName(\"Ingestion\").config('spark.ui.port', '4050').getOrCreate()"
      ],
      "metadata": {
        "colab": {
          "base_uri": "https://localhost:8080/"
        },
        "id": "_rxLbtikMr9r",
        "outputId": "dac7ade7-e8c5-421e-e3f6-f5047d4fc27c",
        "collapsed": true
      },
      "execution_count": 1,
      "outputs": [
        {
          "output_type": "stream",
          "name": "stdout",
          "text": [
            "\u001b[2K     \u001b[90m━━━━━━━━━━━━━━━━━━━━━━━━━━━━━━━━━━━━━━━━\u001b[0m \u001b[32m317.0/317.0 MB\u001b[0m \u001b[31m3.1 MB/s\u001b[0m eta \u001b[36m0:00:00\u001b[0m\n",
            "\u001b[?25h  Preparing metadata (setup.py) ... \u001b[?25l\u001b[?25hdone\n",
            "\u001b[2K     \u001b[90m━━━━━━━━━━━━━━━━━━━━━━━━━━━━━━━━━━━━━━━━\u001b[0m \u001b[32m200.5/200.5 kB\u001b[0m \u001b[31m17.4 MB/s\u001b[0m eta \u001b[36m0:00:00\u001b[0m\n",
            "\u001b[?25h  Building wheel for pyspark (setup.py) ... \u001b[?25l\u001b[?25hdone\n"
          ]
        }
      ]
    },
    {
      "cell_type": "code",
      "source": [
        "from google.colab import drive\n",
        "drive.mount('/content/drive')"
      ],
      "metadata": {
        "colab": {
          "base_uri": "https://localhost:8080/"
        },
        "id": "JXsWfDqpQCNX",
        "outputId": "2fcda8be-99b9-4b75-805c-ca1ddf4c990d"
      },
      "execution_count": 2,
      "outputs": [
        {
          "output_type": "stream",
          "name": "stdout",
          "text": [
            "Mounted at /content/drive\n"
          ]
        }
      ]
    },
    {
      "cell_type": "markdown",
      "source": [
        "# Read Driver CSV file\n",
        "PySpark provides DataFrameReader to load a DataFrame from external storage systems (e.g. file systems, key-value stores, etc). Use SparkSession.read to access this. You can use format(source) to specify the input data source format.  \n",
        "Using csv(\"path\") or format(\"csv\").load(\"path\") of DataFrameReader, you can read a CSV file into a PySpark DataFrame, These methods take a file path to read from as an argument. When you use format(\"csv\") method, you can also specify the data sources by their fully qualified name, but for built-in sources, you can simply use their short names (csv,json, parquet, jdbc, text e.t.c).\n",
        "In this example, it shows how to read a single CSV file “people.csv” into DataFrame as well as how to use your own defined schema when read file into DataFrame.\n"
      ],
      "metadata": {
        "id": "rtxOtI2IMkrM"
      }
    },
    {
      "cell_type": "code",
      "execution_count": 5,
      "metadata": {
        "colab": {
          "base_uri": "https://localhost:8080/"
        },
        "id": "CCPBBuBXMIia",
        "outputId": "0cb66864-1f82-4249-8393-8892080c21e6"
      },
      "outputs": [
        {
          "output_type": "stream",
          "name": "stdout",
          "text": [
            "+---+-----------------+-----------+-------------+------+\n",
            "|Sno|       DriverName|DriverPhone|TaxiIDDriving|Rating|\n",
            "+---+-----------------+-----------+-------------+------+\n",
            "|  1|Georgiana Iverson|   38587202|          209|   1.7|\n",
            "|  2|   Ewell Rolstone|   88675586|          243|   4.9|\n",
            "|  3|    Pedro Thacker|   94452422|          197|   2.6|\n",
            "|  4|     Winn Kellard|   81521505|          456|   4.8|\n",
            "|  5|   Ermin Trounson|   21644415|          372|   4.1|\n",
            "|  6| Weylin Bernhardi|   89930924|          397|   4.7|\n",
            "|  7|  Giuseppe Manton|   78503208|          463|   3.3|\n",
            "|  8| Friedrich De'Ath|   64901517|          264|   4.4|\n",
            "|  9|  Lauraine Galton|   28736147|          367|   4.7|\n",
            "| 10|   Debra Willeman|   97189395|          277|   4.6|\n",
            "| 11| Francene Gavriel|   88137354|           32|   4.9|\n",
            "| 12|     Eyde Brosini|   34871916|          386|   4.2|\n",
            "| 13|  Orelia Woolfoot|   28037658|          329|   4.1|\n",
            "| 14|Christi Middleton|   97577827|          453|   4.8|\n",
            "| 15|     Jamey Cecely|   48329871|          418|   4.7|\n",
            "| 16|  Rosetta Matanin|   59730924|          335|   3.4|\n",
            "| 17|Antonina Newlands|   50182407|          255|   3.3|\n",
            "| 18|  Eilis MacGraith|   87527429|          385|   4.5|\n",
            "| 19|    Cozmo Macenzy|   20817333|          503|   4.5|\n",
            "| 20| Demetrius Fuente|   66677742|          500|   3.0|\n",
            "+---+-----------------+-----------+-------------+------+\n",
            "only showing top 20 rows\n",
            "\n",
            "root\n",
            " |-- Sno: integer (nullable = true)\n",
            " |-- DriverName: string (nullable = true)\n",
            " |-- DriverPhone: integer (nullable = true)\n",
            " |-- TaxiIDDriving: integer (nullable = true)\n",
            " |-- Rating: double (nullable = true)\n",
            "\n"
          ]
        },
        {
          "output_type": "execute_result",
          "data": {
            "text/plain": [
              "DataFrame[]"
            ]
          },
          "metadata": {},
          "execution_count": 5
        }
      ],
      "source": [
        "# Read CSV file people.csv\n",
        "df = spark.read.format('csv') \\\n",
        "                .option(\"inferSchema\",\"true\") \\\n",
        "                .option(\"header\",\"true\") \\\n",
        "                .load(\"/content/drive/MyDrive/Colab Notebooks/data/BEAD_Rebu_Drivers.csv\")\n",
        "\n",
        "# Show result\n",
        "df.show()\n",
        "\n",
        "# Print schema\n",
        "df.printSchema()\n"
      ]
    },
    {
      "cell_type": "code",
      "source": [
        "driversCount = df.count()\n",
        "df.show(driversCount, False)"
      ],
      "metadata": {
        "colab": {
          "base_uri": "https://localhost:8080/"
        },
        "id": "tU_A5Ljvntc7",
        "outputId": "81f929a5-a7e4-44b0-c7aa-1e8815e00cb8"
      },
      "execution_count": 7,
      "outputs": [
        {
          "output_type": "stream",
          "name": "stdout",
          "text": [
            "+---+-----------------------+-----------+-------------+------+\n",
            "|Sno|DriverName             |DriverPhone|TaxiIDDriving|Rating|\n",
            "+---+-----------------------+-----------+-------------+------+\n",
            "|1  |Georgiana Iverson      |38587202   |209          |1.7   |\n",
            "|2  |Ewell Rolstone         |88675586   |243          |4.9   |\n",
            "|3  |Pedro Thacker          |94452422   |197          |2.6   |\n",
            "|4  |Winn Kellard           |81521505   |456          |4.8   |\n",
            "|5  |Ermin Trounson         |21644415   |372          |4.1   |\n",
            "|6  |Weylin Bernhardi       |89930924   |397          |4.7   |\n",
            "|7  |Giuseppe Manton        |78503208   |463          |3.3   |\n",
            "|8  |Friedrich De'Ath       |64901517   |264          |4.4   |\n",
            "|9  |Lauraine Galton        |28736147   |367          |4.7   |\n",
            "|10 |Debra Willeman         |97189395   |277          |4.6   |\n",
            "|11 |Francene Gavriel       |88137354   |32           |4.9   |\n",
            "|12 |Eyde Brosini           |34871916   |386          |4.2   |\n",
            "|13 |Orelia Woolfoot        |28037658   |329          |4.1   |\n",
            "|14 |Christi Middleton      |97577827   |453          |4.8   |\n",
            "|15 |Jamey Cecely           |48329871   |418          |4.7   |\n",
            "|16 |Rosetta Matanin        |59730924   |335          |3.4   |\n",
            "|17 |Antonina Newlands      |50182407   |255          |3.3   |\n",
            "|18 |Eilis MacGraith        |87527429   |385          |4.5   |\n",
            "|19 |Cozmo Macenzy          |20817333   |503          |4.5   |\n",
            "|20 |Demetrius Fuente       |66677742   |500          |3.0   |\n",
            "|21 |Tabb Zottoli           |42475817   |336          |4.7   |\n",
            "|22 |Goober Harnetty        |72662822   |129          |3.5   |\n",
            "|23 |Guendolen Mowsdell     |53587405   |496          |4.2   |\n",
            "|24 |Cart Fragino           |84304833   |478          |4.7   |\n",
            "|25 |Free Grayson           |63040549   |423          |2.4   |\n",
            "|26 |Casper Rizzi           |49012801   |252          |4.3   |\n",
            "|27 |Kasey Minker           |52769994   |451          |4.9   |\n",
            "|28 |Matthus Eddoes         |95283646   |217          |2.7   |\n",
            "|29 |Wayland Minghella      |70656393   |116          |4.7   |\n",
            "|30 |Liam Severn            |61623142   |234          |4.1   |\n",
            "|31 |Viviene Felce          |82918521   |337          |4.5   |\n",
            "|32 |Maryl Friend           |64723245   |48           |4.8   |\n",
            "|33 |Kikelia Darmody        |73985415   |31           |4.6   |\n",
            "|34 |Mitchel McGilmartin    |97360724   |75           |2.5   |\n",
            "|35 |Lindsey Titlow         |63986122   |121          |4.1   |\n",
            "|36 |Alie Hovington         |99768661   |415          |4.6   |\n",
            "|37 |Herta Toone            |41609095   |191          |4.9   |\n",
            "|38 |Sammy Tabourier        |55279256   |267          |4.2   |\n",
            "|39 |Hank Hayller           |99914480   |413          |4.8   |\n",
            "|40 |Aili Simione           |14216611   |344          |3.6   |\n",
            "|41 |Timmi Manston          |71608714   |445          |4.2   |\n",
            "|42 |Frannie Magnar         |56840926   |163          |5.0   |\n",
            "|43 |Karleen Ollive         |57064017   |325          |2.8   |\n",
            "|44 |Mavis Setch            |44518456   |124          |4.4   |\n",
            "|45 |Walden Stubbes         |29851767   |361          |4.6   |\n",
            "|46 |Billie Logsdail        |76817765   |331          |4.3   |\n",
            "|47 |Elysha Dalrymple       |85018116   |105          |4.2   |\n",
            "|48 |Roshelle Vedenichev    |84190028   |149          |4.6   |\n",
            "|49 |Cortney Cleminson      |80390722   |405          |4.2   |\n",
            "|50 |Ollie Bricksey         |34936870   |260          |4.2   |\n",
            "|51 |Matty Wing             |78478409   |279          |3.9   |\n",
            "|52 |Romonda Wodeland       |82644803   |274          |3.1   |\n",
            "|53 |Shellysheldon Dunnett  |55942025   |84           |3.5   |\n",
            "|54 |Philippa Ambrosoli     |42607299   |82           |4.2   |\n",
            "|55 |Jenna Fundell          |70832944   |507          |4.1   |\n",
            "|56 |Easter Ornelas         |53338047   |348          |3.3   |\n",
            "|57 |Dukie Easey            |81132059   |113          |4.8   |\n",
            "|58 |Westley Freddi         |24626556   |282          |4.7   |\n",
            "|59 |Keith Merrin           |41210618   |265          |4.3   |\n",
            "|60 |Aguste Grabban         |57449768   |14           |4.2   |\n",
            "|61 |Eada Kee               |69428458   |354          |4.7   |\n",
            "|62 |Ashil Keppie           |75684471   |43           |4.6   |\n",
            "|63 |Milly Balas            |89321763   |235          |1.5   |\n",
            "|64 |Luca Sigmund           |31414525   |101          |4.2   |\n",
            "|65 |Mose Leap              |15449155   |15           |4.3   |\n",
            "|66 |Urban Digg             |70418536   |276          |3.4   |\n",
            "|67 |Maudie Jerzycowski     |29259439   |438          |4.5   |\n",
            "|68 |Annabell Huggens       |87762857   |24           |4.5   |\n",
            "|69 |Elisha Penright        |39257626   |71           |3.2   |\n",
            "|70 |Stephie Iacobetto      |97198884   |414          |3.7   |\n",
            "|71 |Tyson Kusick           |20219130   |465          |4.1   |\n",
            "|72 |Floria Amos            |37773900   |203          |4.1   |\n",
            "|73 |Celine Bromont         |10126673   |104          |4.7   |\n",
            "|74 |Eva Slyne              |31801957   |183          |4.7   |\n",
            "|75 |Elicia Tanzer          |77454449   |296          |3.4   |\n",
            "|76 |Coraline Rapa          |79066493   |8            |4.8   |\n",
            "|77 |Felisha Hamnett        |28510895   |311          |4.1   |\n",
            "|78 |Janice Briscow         |61428789   |229          |4.8   |\n",
            "|79 |Berkly Egiloff         |90144129   |74           |3.5   |\n",
            "|80 |Abdel Popple           |85674065   |87           |3.8   |\n",
            "|81 |Yolanthe Rowatt        |19261781   |433          |4.9   |\n",
            "|82 |Pavla Eallis           |33745601   |365          |4.6   |\n",
            "|83 |Arlen Kilroy           |39659748   |295          |4.5   |\n",
            "|84 |Eryn Bissell           |41573281   |100          |4.8   |\n",
            "|85 |Abbey Vale             |13312870   |92           |3.4   |\n",
            "|86 |Allen Corkhill         |11970832   |138          |1.9   |\n",
            "|87 |Titos Starmer          |87127199   |51           |4.1   |\n",
            "|88 |Lannie Braywood        |20621744   |127          |3.7   |\n",
            "|89 |Laney Rack             |25113837   |513          |4.2   |\n",
            "|90 |Wolfy Osman            |71721050   |439          |2.8   |\n",
            "|91 |Valerye Attride        |52945516   |214          |4.6   |\n",
            "|92 |Moe Meffin             |77098776   |110          |4.7   |\n",
            "|93 |Crin Roberds           |35742598   |206          |4.6   |\n",
            "|94 |Eveleen Ranking        |36958743   |377          |1.0   |\n",
            "|95 |Heloise Charity        |59356774   |285          |4.7   |\n",
            "|96 |Roseline Tabbernor     |55110318   |345          |4.5   |\n",
            "|97 |Paxon Sibbson          |75160974   |37           |4.6   |\n",
            "|98 |Sibby Pitherick        |40826179   |109          |3.0   |\n",
            "|99 |Nehemiah Crichten      |81762841   |313          |4.9   |\n",
            "|100|Lani Bader             |75989464   |246          |4.3   |\n",
            "|101|Marga Probey           |18906488   |494          |3.6   |\n",
            "|102|Janek Yosselevitch     |27784313   |185          |4.4   |\n",
            "|103|Sabrina Blakden        |39951489   |504          |4.3   |\n",
            "|104|Frances Durbridge      |77383702   |216          |4.7   |\n",
            "|105|Janelle Winter         |10269230   |294          |4.2   |\n",
            "|106|Barby Ugoni            |71234990   |86           |1.9   |\n",
            "|107|Jessie Eastbury        |45999824   |383          |4.3   |\n",
            "|108|Hakeem Turgoose        |25804659   |40           |4.4   |\n",
            "|109|Marion Cordle          |57467225   |145          |4.1   |\n",
            "|110|Adelle Hedau           |76024152   |192          |4.9   |\n",
            "|111|Alejandrina Jossel     |45003040   |417          |5.0   |\n",
            "|112|Homere Nossent         |67414021   |436          |4.5   |\n",
            "|113|Corbett Raven          |50126024   |444          |4.4   |\n",
            "|114|Curr Mozzini           |66555756   |514          |3.2   |\n",
            "|115|Melina Dewey           |28414108   |103          |4.6   |\n",
            "|116|Jonell Coie            |12857367   |135          |4.9   |\n",
            "|117|Rodina Pitone          |44520890   |91           |4.2   |\n",
            "|118|Batholomew Sone        |63372048   |426          |4.4   |\n",
            "|119|Sloane Meharg          |27753427   |49           |4.1   |\n",
            "|120|Gilli Thornally        |16861435   |186          |3.3   |\n",
            "|121|Kristian Lehemann      |11114612   |483          |4.2   |\n",
            "|122|Obed Lineker           |64565212   |459          |4.8   |\n",
            "|123|Trace Levane           |11521564   |338          |5.0   |\n",
            "|124|Daloris Grubbe         |10782542   |59           |3.6   |\n",
            "|125|Electra Piser          |61884095   |115          |4.5   |\n",
            "|126|Gusta Strevens         |21718179   |211          |4.2   |\n",
            "|127|Marj Keats             |55979173   |447          |5.0   |\n",
            "|128|Gwendolen Chalker      |63967708   |381          |3.9   |\n",
            "|129|Orbadiah Magee         |61176583   |352          |4.2   |\n",
            "|130|Angelika Surgen        |19805329   |432          |2.2   |\n",
            "|131|Latisha Taylo          |22657988   |72           |4.7   |\n",
            "|132|Maisey Powell          |80228242   |117          |4.2   |\n",
            "|133|Adelheid Govey         |96445700   |1            |4.6   |\n",
            "|134|Cari Neathway          |56488434   |442          |4.6   |\n",
            "|135|Julianna Fray          |67407126   |435          |4.5   |\n",
            "|136|Liva Owens             |69752948   |130          |3.7   |\n",
            "|137|Clarinda Vaadeland     |42474275   |102          |4.3   |\n",
            "|138|Aviva Coggles          |48136714   |45           |4.5   |\n",
            "|139|Vivianne Neale         |57602108   |220          |3.7   |\n",
            "|140|Roobbie Hrihorovich    |73232693   |202          |4.7   |\n",
            "|141|Tobin Coursor          |78156123   |258          |3.5   |\n",
            "|142|Hill Withur            |68266617   |462          |3.7   |\n",
            "|143|Case Lumbley           |72832917   |278          |4.9   |\n",
            "|144|Fidelity Kilpatrick    |78843915   |475          |4.3   |\n",
            "|145|Gaynor Malser          |69910302   |430          |4.3   |\n",
            "|146|Spenser Hyett          |61656760   |511          |4.1   |\n",
            "|147|Sammie Ofer            |95690808   |142          |4.3   |\n",
            "|148|Danie Mellmoth         |64171197   |448          |4.4   |\n",
            "|149|Aguistin Dodswell      |82254437   |198          |3.9   |\n",
            "|150|Dorise De'Vere - Hunt  |57205759   |269          |4.0   |\n",
            "|151|Arlyn Elkins           |26365653   |409          |3.3   |\n",
            "|152|Gilbert Dilley         |42740683   |218          |4.9   |\n",
            "|153|Jobyna Kiehne          |17127391   |248          |2.9   |\n",
            "|154|Morganica Camerello    |89657027   |305          |3.3   |\n",
            "|155|Wilhelm Caush          |29183865   |268          |4.3   |\n",
            "|156|Nicolis Roocroft       |14137711   |18           |4.5   |\n",
            "|157|Rickie Mahaddy         |13746022   |318          |3.1   |\n",
            "|158|Simmonds Masdin        |82578210   |387          |4.6   |\n",
            "|159|Agatha Deans           |43943989   |351          |4.6   |\n",
            "|160|Cristi Diemer          |98653540   |136          |4.9   |\n",
            "|161|Blakelee Goadby        |97472363   |3            |4.8   |\n",
            "|162|Rod Silburn            |85479964   |499          |4.7   |\n",
            "|163|Molly Frossell         |18719048   |332          |4.8   |\n",
            "|164|Abigail Alexsandrev    |74596248   |479          |2.5   |\n",
            "|165|Gail Prestie           |16675077   |273          |0.8   |\n",
            "|166|Melisandra Saffe       |97067814   |472          |3.1   |\n",
            "|167|Marillin Kunath        |19727328   |22           |4.8   |\n",
            "|168|Analiese Mulroy        |92483047   |257          |3.3   |\n",
            "|169|Titus Fittall          |68661161   |272          |4.2   |\n",
            "|170|Pascal Janz            |61426654   |323          |2.8   |\n",
            "|171|Cosimo McKeating       |69607355   |481          |3.6   |\n",
            "|172|Pam Mandal             |13286157   |394          |4.2   |\n",
            "|173|Allayne O'Scully       |87765545   |261          |4.3   |\n",
            "|174|Rodrick Abry           |26437439   |330          |4.3   |\n",
            "|175|Rakel Fosten           |80794818   |143          |4.5   |\n",
            "|176|Lowrance Stitcher      |15653193   |99           |3.2   |\n",
            "|177|Janifer Knapman        |20499547   |64           |4.5   |\n",
            "|178|Fina Claybourn         |39260910   |13           |3.0   |\n",
            "|179|Mable Sodor            |46364931   |406          |4.1   |\n",
            "|180|Jordan Boughey         |87897072   |289          |4.7   |\n",
            "|181|Karel Foulser          |45296479   |83           |4.2   |\n",
            "|182|Amye Roden             |33732942   |205          |4.8   |\n",
            "|183|Vittorio Partrick      |12981691   |165          |4.7   |\n",
            "|184|Erl Skews              |30473080   |286          |4.2   |\n",
            "|185|Eduardo Burdytt        |11819646   |182          |1.4   |\n",
            "|186|Zaccaria Pearmain      |80583247   |57           |4.1   |\n",
            "|187|Hollie Kassel          |21451946   |306          |4.7   |\n",
            "|188|Ada Hayball            |99797490   |208          |4.5   |\n",
            "|189|Leighton Tupp          |94582414   |334          |4.7   |\n",
            "|190|Arden Dealy            |17860883   |30           |3.6   |\n",
            "|191|Wat Falkinder          |24137692   |73           |2.7   |\n",
            "|192|Bev Sergant            |52336379   |492          |4.4   |\n",
            "|193|Joshua Ivanov          |13462113   |291          |4.5   |\n",
            "|194|Wes Breckell           |64327709   |484          |2.4   |\n",
            "|195|Fidelio Ribchester     |21870885   |4            |2.0   |\n",
            "|196|Marco Rymmer           |66532029   |146          |3.7   |\n",
            "|197|Elvina Tewes           |93740598   |263          |4.2   |\n",
            "|198|Lexi Zarfati           |41365033   |490          |4.2   |\n",
            "|199|Tally Bruyet           |43570764   |65           |4.4   |\n",
            "|200|Terri Farrimond        |89924262   |150          |4.1   |\n",
            "|201|Cullin Wiz             |15410989   |174          |4.6   |\n",
            "|202|Francisco Blaxeland    |26484106   |139          |3.1   |\n",
            "|203|Rosabella Titmus       |74100061   |93           |4.2   |\n",
            "|204|Norean Richard         |23405361   |159          |3.5   |\n",
            "|205|Manny Woffenden        |45879669   |199          |4.4   |\n",
            "|206|Koressa Edridge        |75610724   |196          |3.6   |\n",
            "|207|Paolo Hitschke         |24430817   |486          |3.7   |\n",
            "|208|Jimmy Poutress         |20966076   |134          |4.1   |\n",
            "|209|L;urette Lourens       |33207342   |271          |4.9   |\n",
            "|210|Pammi Llorens          |18293458   |419          |3.4   |\n",
            "|211|Shurwood Eidler        |41657399   |70           |4.8   |\n",
            "|212|Ric Donisi             |97942579   |215          |3.2   |\n",
            "|213|Sharai Caulcutt        |71160332   |194          |3.1   |\n",
            "|214|Morry Calbert          |32689247   |307          |3.8   |\n",
            "|215|Shirlee Mildenhall     |10298083   |280          |4.5   |\n",
            "|216|Trude Corris           |41305677   |33           |4.6   |\n",
            "|217|Emmeline Maly          |84861795   |493          |4.3   |\n",
            "|218|Devan Winsom           |84156097   |411          |4.1   |\n",
            "|219|Aurelia Titmuss        |51735123   |407          |2.4   |\n",
            "|220|Albrecht Guilliland    |88426273   |156          |4.8   |\n",
            "|221|Sadye Kollach          |97576398   |441          |4.9   |\n",
            "|222|Bibbye Marriage        |84542614   |201          |5.0   |\n",
            "|223|Eve Thunderman         |93663694   |315          |4.3   |\n",
            "|224|Lea Boyland            |95755355   |29           |3.9   |\n",
            "|225|Clarence Corre         |21210066   |455          |4.4   |\n",
            "|226|Louise Claiton         |85215246   |5            |4.3   |\n",
            "|227|Yevette Dunguy         |68493146   |293          |4.5   |\n",
            "|228|Marge Sachno           |71148434   |249          |2.3   |\n",
            "|229|Nickie Widdows         |97878946   |187          |3.5   |\n",
            "|230|Garik Leynton          |79580986   |56           |4.9   |\n",
            "|231|Astra Beades           |23067659   |42           |4.9   |\n",
            "|232|Christie MacLennan     |67372089   |161          |4.6   |\n",
            "|233|Yetta de Vaen          |19934147   |55           |2.9   |\n",
            "|234|Ches Scopham           |62962672   |160          |3.2   |\n",
            "|235|Ninnette Peacop        |63601655   |62           |3.9   |\n",
            "|236|Quincey Rouff          |42500932   |125          |4.4   |\n",
            "|237|Sile McGrale           |44689828   |58           |4.2   |\n",
            "|238|Crysta Coulthurst      |23943173   |324          |4.3   |\n",
            "|239|Glenn Curry            |83646559   |369          |3.1   |\n",
            "|240|Hart Levene            |79626937   |108          |4.6   |\n",
            "|241|Emmalee Mayworth       |82843684   |427          |4.3   |\n",
            "|242|Stefanie Arguile       |53781273   |328          |4.5   |\n",
            "|243|Lark Demelt            |40270607   |228          |2.4   |\n",
            "|244|Darbie Flew            |13831383   |21           |1.1   |\n",
            "|245|Clem Tales             |77090560   |167          |3.5   |\n",
            "|246|Gertrude Verty         |94585878   |425          |3.2   |\n",
            "|247|Lee Traice             |38262954   |449          |4.3   |\n",
            "|248|Gauthier Vasse         |46509802   |340          |4.7   |\n",
            "|249|Randee Agge            |39782543   |193          |4.8   |\n",
            "|250|Izak Sobieski          |74589644   |85           |3.8   |\n",
            "|251|Aharon Ferrarotti      |71067156   |204          |4.8   |\n",
            "|252|Blake Scourfield       |26118397   |389          |4.9   |\n",
            "|253|Mellicent Wayt         |59631568   |512          |4.2   |\n",
            "|254|Marijo Barukh          |94271716   |230          |4.7   |\n",
            "|255|Petunia M'Chirrie      |66343693   |487          |4.6   |\n",
            "|256|Augusta Blanchard      |53079125   |347          |4.4   |\n",
            "|257|Xena Codd              |28322033   |176          |4.9   |\n",
            "|258|Joann Zealey           |59136398   |88           |4.4   |\n",
            "|259|Yuri Amott             |60936894   |61           |2.5   |\n",
            "|260|Jeromy Timbs           |81019555   |232          |4.8   |\n",
            "|261|Emmery Dunston         |87262593   |173          |2.4   |\n",
            "|262|Decca Oxshott          |56894492   |144          |4.9   |\n",
            "|263|Dunstan Drinkwater     |55341109   |467          |2.5   |\n",
            "|264|Horatio Ehrat          |68751083   |378          |4.8   |\n",
            "|265|Elie Pottie            |28886840   |231          |3.5   |\n",
            "|266|Lela Wrankling         |82578684   |168          |4.1   |\n",
            "|267|Goldy Lifton           |66913040   |46           |4.2   |\n",
            "|268|Nat Blowfelde          |86728184   |440          |4.5   |\n",
            "|269|Rudolfo Adamovsky      |85402076   |452          |3.1   |\n",
            "|270|Aldwin Vicarey         |92947610   |450          |4.4   |\n",
            "|271|Gwynne Nipper          |52791898   |446          |2.7   |\n",
            "|272|Jasmina Gwyther        |24438047   |119          |3.1   |\n",
            "|273|Ailsun Cooksley        |56372451   |341          |4.1   |\n",
            "|274|Kakalina Matz          |48236727   |363          |4.9   |\n",
            "|275|Suzanna Bendan         |10387259   |393          |3.9   |\n",
            "|276|Levey Skippings        |21970507   |339          |4.6   |\n",
            "|277|Ernesta Miller         |18934973   |200          |4.3   |\n",
            "|278|Tony Hartrick          |82729784   |368          |4.3   |\n",
            "|279|Charyl Mateiko         |40285583   |327          |4.9   |\n",
            "|280|Keir Fasse             |36233434   |326          |3.2   |\n",
            "|281|Fernando Jelphs        |64451935   |288          |4.7   |\n",
            "|282|Franchot Jedrzejczyk   |31564414   |155          |4.5   |\n",
            "|283|Amory Skep             |38805056   |396          |4.1   |\n",
            "|284|Ami Jurasz             |77704502   |190          |4.8   |\n",
            "|285|Umeko Lachaize         |20980084   |152          |4.7   |\n",
            "|286|Kimble Yallop          |77866623   |177          |4.2   |\n",
            "|287|Tom Brewers            |76329686   |304          |5.0   |\n",
            "|288|Boonie Ledrun          |87823287   |428          |4.4   |\n",
            "|289|Nadeen Losbie          |60612584   |47           |4.9   |\n",
            "|290|Tracie MacRannell      |94505699   |498          |3.5   |\n",
            "|291|Therine Tripp          |68075602   |50           |4.4   |\n",
            "|292|Dorian Mocquer         |21411242   |2            |4.9   |\n",
            "|293|Mellisa Giacomini      |81578322   |283          |0.7   |\n",
            "|294|Meg Gairdner           |74883951   |253          |3.3   |\n",
            "|295|Natal Teasdale         |11515156   |25           |4.2   |\n",
            "|296|Sampson Hugonet        |70192261   |39           |4.7   |\n",
            "|297|Stillman Terbrugge     |18871584   |158          |3.3   |\n",
            "|298|Jinny Wordington       |99534217   |471          |4.4   |\n",
            "|299|Kimberlee Hounsom      |66060040   |308          |3.4   |\n",
            "|300|Ximenez Greenley       |50157978   |421          |3.1   |\n",
            "|301|Blinnie Glasspool      |94091433   |28           |4.0   |\n",
            "|302|Bili Ossenna           |89022835   |299          |4.8   |\n",
            "|303|Renelle Heimes         |58728853   |317          |5.0   |\n",
            "|304|Amelia Alcott          |31893235   |137          |5.0   |\n",
            "|305|Yanaton Rosettini      |27176332   |118          |4.9   |\n",
            "|306|Janetta Witton         |43855635   |281          |4.3   |\n",
            "|307|Kimble Caddens         |90389410   |474          |4.8   |\n",
            "|308|Tamarah Molden         |87881790   |16           |4.1   |\n",
            "|309|Vidovic Moat           |66772321   |256          |4.3   |\n",
            "|310|Bibbie Shelvey         |99504597   |506          |4.4   |\n",
            "|311|Mabel Murton           |68994469   |172          |4.6   |\n",
            "|312|Irma Brookz            |17555949   |454          |1.4   |\n",
            "|313|Willy Torfin           |68565670   |362          |4.6   |\n",
            "|314|Michaelina Hainning    |62059565   |508          |4.4   |\n",
            "|315|Emmeline Libero        |42033177   |166          |2.6   |\n",
            "|316|Britta Pointon         |64945365   |290          |3.9   |\n",
            "|317|Seline Stolli          |30421672   |416          |4.4   |\n",
            "|318|Andy Counsell          |24075323   |147          |5.0   |\n",
            "|319|Bastian Pettingall     |26074486   |78           |4.2   |\n",
            "|320|Hyacinth Jorgesen      |42462144   |391          |5.0   |\n",
            "|321|Dukey Heales           |61158138   |76           |4.5   |\n",
            "|322|Mikey Barrowcliffe     |87738898   |79           |4.1   |\n",
            "|323|Nelson Gaither         |25742312   |238          |4.2   |\n",
            "|324|Kora Kenrat            |89760382   |151          |3.2   |\n",
            "|325|Anestassia Quirk       |17785712   |44           |4.7   |\n",
            "|326|Cleve Wyldes           |61919898   |359          |4.8   |\n",
            "|327|Gabriel Gamlyn         |56091664   |429          |4.2   |\n",
            "|328|Colver Halpin          |26404479   |431          |1.2   |\n",
            "|329|Dinnie Butler          |27847941   |63           |4.7   |\n",
            "|330|Kaleb Greenroad        |26854614   |112          |4.5   |\n",
            "|331|Robb Grafton           |17592103   |140          |1.8   |\n",
            "|332|Elisabet Antoniak      |52533764   |148          |4.7   |\n",
            "|333|Lillis Mohammad        |79221291   |346          |4.7   |\n",
            "|334|Urbano Spaducci        |54709036   |292          |4.3   |\n",
            "|335|Rosabella Wyleman      |40701356   |502          |3.8   |\n",
            "|336|Sergent Mistry         |78059570   |36           |4.9   |\n",
            "|337|Wendall Pittman        |11798805   |132          |4.1   |\n",
            "|338|Ariana Padula          |82500508   |310          |4.7   |\n",
            "|339|Millisent Bellchamber  |93203070   |342          |4.0   |\n",
            "|340|Mose McKerrow          |53317602   |468          |3.9   |\n",
            "|341|Theodor Hendren        |60443933   |131          |4.6   |\n",
            "|342|Henrie Provost         |58798230   |69           |4.5   |\n",
            "|343|Isiahi Lightbody       |41544139   |54           |2.5   |\n",
            "|344|Annie Billany          |34826435   |460          |4.6   |\n",
            "|345|Gigi Holsey            |63857411   |52           |4.0   |\n",
            "|346|Danie Colegrove        |52555045   |221          |4.6   |\n",
            "|347|Shara Spurway          |89860798   |488          |3.6   |\n",
            "|348|Grazia Cleiment        |73686037   |122          |4.3   |\n",
            "|349|Merwin Rickword        |48067243   |287          |4.6   |\n",
            "|350|Siobhan Cullimore      |72000986   |94           |2.8   |\n",
            "|351|Merrili Ege            |18000493   |23           |3.5   |\n",
            "|352|Saree Joddens          |91857324   |90           |2.9   |\n",
            "|353|Mic Lints              |14111476   |489          |2.4   |\n",
            "|354|Garold ducarme         |12032434   |356          |2.3   |\n",
            "|355|Lainey Deetlefs        |57885249   |312          |5.0   |\n",
            "|356|Goober Dighton         |79252175   |399          |2.2   |\n",
            "|357|Shirl Gaymer           |36339274   |180          |4.9   |\n",
            "|358|Renaud Perch           |52447558   |237          |3.3   |\n",
            "|359|Arly Sisneros          |84635490   |164          |4.7   |\n",
            "|360|Wynne Joao             |91097139   |169          |3.4   |\n",
            "|361|Kareem Dullingham      |58067597   |316          |4.2   |\n",
            "|362|Levon Donn             |52916406   |380          |3.3   |\n",
            "|363|Tamas Pezey            |40576364   |170          |4.0   |\n",
            "|364|Shalom Scarman         |48019252   |254          |3.2   |\n",
            "|365|Normand McSorley       |47181968   |470          |2.2   |\n",
            "|366|Noll Acaster           |79520452   |224          |3.1   |\n",
            "|367|Jorry Roots            |43396137   |349          |3.9   |\n",
            "|368|Paola Sopper           |52677527   |458          |4.7   |\n",
            "|369|Wilfrid Erswell        |32656048   |266          |3.4   |\n",
            "|370|Hartley Ivery          |61045943   |98           |4.7   |\n",
            "|371|Dudley Vereker         |51997448   |213          |4.7   |\n",
            "|372|Celestyn Walburn       |42102061   |9            |3.6   |\n",
            "|373|Juan Anand             |51025256   |505          |4.8   |\n",
            "|374|Fionnula Bunclark      |46035549   |402          |4.7   |\n",
            "|375|Zak Probbings          |76588982   |476          |3.6   |\n",
            "|376|Stevy Bembrigg         |22715765   |373          |4.9   |\n",
            "|377|Stoddard Townson       |68370578   |485          |4.8   |\n",
            "|378|Aurora Fortoun         |74267201   |154          |4.8   |\n",
            "|379|Murielle Salamon       |41966201   |297          |4.4   |\n",
            "|380|Chrysler Janaway       |59531776   |114          |3.4   |\n",
            "|381|Ashely Faires          |96458487   |111          |1.3   |\n",
            "|382|Salvador Fairnie       |52472975   |242          |4.2   |\n",
            "|383|Rebeca Bockin          |87619477   |358          |4.0   |\n",
            "|384|Barbey Paiton          |62510844   |133          |3.0   |\n",
            "|385|Agatha Syrie           |14889466   |207          |2.3   |\n",
            "|386|Dolorita Doick         |53368492   |262          |3.3   |\n",
            "|387|Jereme Scothorn        |64943115   |466          |5.0   |\n",
            "|388|Ody Dyett              |69678705   |321          |4.2   |\n",
            "|389|Killian McBrearty      |59643448   |141          |4.2   |\n",
            "|390|Suzette Tardiff        |35196424   |401          |3.8   |\n",
            "|391|Myrvyn Lapham          |71876719   |275          |4.3   |\n",
            "|392|Lynnea Habbal          |12926855   |371          |4.8   |\n",
            "|393|Josy Pawlaczyk         |65204213   |392          |4.7   |\n",
            "|394|Callie Emlyn           |19584392   |6            |3.1   |\n",
            "|395|Barby Hawgood          |57926838   |482          |3.3   |\n",
            "|396|Guthrie Ollet          |69911489   |175          |3.6   |\n",
            "|397|Hort Maudling          |16221455   |480          |3.5   |\n",
            "|398|Enrika Maydway         |45592807   |420          |4.3   |\n",
            "|399|Jerrold Aviss          |32515398   |298          |4.2   |\n",
            "|400|Nollie Albinson        |79750919   |357          |4.0   |\n",
            "|401|Sherwood Callum        |67268990   |123          |4.3   |\n",
            "|402|Christye McGiffin      |62291372   |239          |4.0   |\n",
            "|403|Web Rubrow             |91232657   |66           |4.3   |\n",
            "|404|Sydney Merali          |84336676   |366          |4.2   |\n",
            "|405|Opalina Roelvink       |81993025   |251          |3.3   |\n",
            "|406|Teddie Sowter          |34097255   |404          |4.2   |\n",
            "|407|Penny Yakubovics       |69604256   |188          |4.7   |\n",
            "|408|Hershel Stennine       |44733632   |375          |4.1   |\n",
            "|409|Rori Crassweller       |60071263   |473          |4.8   |\n",
            "|410|Marjy Ubach            |91416327   |20           |4.6   |\n",
            "|411|Delilah Culy           |51925111   |10           |2.4   |\n",
            "|412|Margaret Gateman       |20986320   |491          |1.2   |\n",
            "|413|Edgar Hatherell        |13205485   |244          |4.1   |\n",
            "|414|Diane-marie Imort      |18254139   |195          |4.5   |\n",
            "|415|Keir Vowles            |91963305   |515          |4.3   |\n",
            "|416|Mahala Matias          |70273425   |162          |4.5   |\n",
            "|417|Olivette Cockson       |26051552   |81           |4.8   |\n",
            "|418|Shaine Scrammage       |26647382   |400          |4.7   |\n",
            "|419|Egbert Wither          |16538360   |7            |4.3   |\n",
            "|420|Svend Kornel           |97151291   |27           |4.3   |\n",
            "|421|Durward Parrett        |68345441   |153          |4.2   |\n",
            "|422|Curr Ovanesian         |65568520   |410          |4.1   |\n",
            "|423|Tedda Farrah           |47442339   |184          |4.8   |\n",
            "|424|Adeline Romain         |70808492   |301          |3.8   |\n",
            "|425|Lesley Colthard        |20080705   |128          |4.4   |\n",
            "|426|Ammamaria Dickie       |56519108   |390          |4.5   |\n",
            "|427|Ajay Luce              |14129580   |403          |4.3   |\n",
            "|428|Callean Pashler        |18282899   |245          |4.2   |\n",
            "|429|Megen Howsam           |41786468   |437          |4.1   |\n",
            "|430|Cozmo Cleveland        |20698270   |26           |4.4   |\n",
            "|431|Margarette Randal      |87859300   |212          |3.3   |\n",
            "|432|Hendrick Farbrother    |13334097   |309          |4.1   |\n",
            "|433|Marquita Philpott      |18490206   |319          |2.0   |\n",
            "|434|Fax Gerrietz           |54969278   |303          |4.3   |\n",
            "|435|Lorri Jakubiak         |26212693   |333          |3.9   |\n",
            "|436|Sandie Stanbridge      |60614565   |443          |4.8   |\n",
            "|437|Ulrick Foulger         |25676629   |457          |3.1   |\n",
            "|438|Simonette Elphinstone  |97222724   |19           |4.2   |\n",
            "|439|Jenica Askey           |24099612   |95           |3.3   |\n",
            "|440|Stillmann Barsham      |92707399   |343          |3.9   |\n",
            "|441|Christel Hoys          |91543413   |157          |4.1   |\n",
            "|442|Zelma Burdett          |81279047   |495          |4.3   |\n",
            "|443|Reba MacHarg           |74344051   |250          |4.5   |\n",
            "|444|Edita Prine            |33100400   |388          |4.1   |\n",
            "|445|Ermanno Errowe         |85895090   |80           |3.4   |\n",
            "|446|Renato Swinfon         |32987095   |395          |3.8   |\n",
            "|447|Amery Waberer          |58228486   |17           |4.4   |\n",
            "|448|Loralee Izzat          |75133560   |353          |4.6   |\n",
            "|449|Pam Shilleto           |25550643   |501          |4.8   |\n",
            "|450|Sauncho Lethbrig       |21523076   |270          |3.3   |\n",
            "|451|Wendi Louiset          |48781572   |497          |4.6   |\n",
            "|452|Carla Mansel           |28580680   |434          |4.7   |\n",
            "|453|Nonie Pigrome          |45299904   |379          |5.0   |\n",
            "|454|Alanah Jeandillou      |10091934   |370          |3.4   |\n",
            "|455|Normy Laminman         |76893269   |106          |4.9   |\n",
            "|456|Shadow Charman         |17151967   |222          |4.1   |\n",
            "|457|Tim Clarycott          |14738114   |360          |3.6   |\n",
            "|458|Gabbie Meyrick         |46810230   |178          |4.3   |\n",
            "|459|Lenci Morde            |18934158   |350          |4.3   |\n",
            "|460|Dru Butting            |87259421   |355          |4.9   |\n",
            "|461|Verney Dmitr           |57433553   |12           |5.0   |\n",
            "|462|Saxon MacPaik          |71059933   |477          |4.4   |\n",
            "|463|Caprice Sibley         |71745473   |11           |4.1   |\n",
            "|464|Jessamyn Lowdeane      |23616224   |422          |4.5   |\n",
            "|465|Si Hum                 |27429545   |240          |4.2   |\n",
            "|466|Krishnah Beynke        |17383379   |364          |4.2   |\n",
            "|467|Kipp Thacke            |59619254   |35           |2.7   |\n",
            "|468|Flossy Durie           |73195166   |60           |4.9   |\n",
            "|469|Leonore Postans        |57755651   |97           |3.1   |\n",
            "|470|Felicio Yeulet         |71472073   |120          |4.9   |\n",
            "|471|Gilbertina Coldbathe   |81200513   |225          |4.8   |\n",
            "|472|Anissa Walden          |42001620   |89           |4.2   |\n",
            "|473|Gabriella Kahen        |80328149   |223          |3.2   |\n",
            "|474|Anson Authers          |45197590   |210          |4.2   |\n",
            "|475|Babbie Copp            |90329010   |302          |4.2   |\n",
            "|476|Berri Bramham          |40011337   |53           |4.7   |\n",
            "|477|Windham MacPherson     |21142517   |189          |4.6   |\n",
            "|478|Cale Stennes           |17857727   |509          |4.3   |\n",
            "|479|Nari Christofe         |12081102   |259          |4.1   |\n",
            "|480|Abeu Pherps            |46897230   |241          |5.0   |\n",
            "|481|Garik Brazenor         |63832988   |107          |3.6   |\n",
            "|482|Harrietta Blowes       |11355048   |408          |4.6   |\n",
            "|483|Salmon McKevin         |51531839   |68           |3.4   |\n",
            "|484|Evelin Arbuckel        |91344715   |181          |4.6   |\n",
            "|485|Enoch Delacourt        |77018223   |34           |3.9   |\n",
            "|486|Giralda Spada          |62508124   |464          |4.7   |\n",
            "|487|Remus Witch            |43839690   |322          |4.9   |\n",
            "|488|Lanette Niemiec        |31014635   |314          |3.3   |\n",
            "|489|Charisse Ibbitt        |80125307   |126          |4.7   |\n",
            "|490|Rebe Bampkin           |67050903   |374          |3.4   |\n",
            "|491|Heloise Wasmer         |71586673   |233          |3.8   |\n",
            "|492|Grata Boichat          |51122154   |376          |4.4   |\n",
            "|493|Amos Arch              |99120504   |226          |0.4   |\n",
            "|494|Bonnie McCowen         |87773586   |320          |4.2   |\n",
            "|495|Tedra Pickrill         |39893284   |461          |4.6   |\n",
            "|496|Liz Catcherside        |25783565   |300          |4.4   |\n",
            "|497|Clementine Szepe       |16620634   |510          |4.8   |\n",
            "|498|Radcliffe Macconachy   |27748711   |227          |4.5   |\n",
            "|499|Lorelle Reford         |50202246   |77           |4.1   |\n",
            "|500|Burgess MacGuigan      |69710812   |219          |3.4   |\n",
            "|501|Quintana Suart         |86932986   |424          |4.7   |\n",
            "|502|Norene Moryson         |58066264   |96           |0.4   |\n",
            "|503|Dede Lodeke            |48131621   |41           |4.4   |\n",
            "|504|Madelin Thorlby        |19345881   |247          |4.9   |\n",
            "|505|Odell Tremblet         |87948117   |38           |4.3   |\n",
            "|506|Maximilianus McConachie|38697367   |171          |3.8   |\n",
            "|507|Blaine McIlvenna       |78476880   |179          |4.5   |\n",
            "|508|Gabrila Abramski       |39967024   |236          |4.9   |\n",
            "|509|Cointon Overstone      |31425668   |382          |4.6   |\n",
            "|510|Bronnie Noen           |28461970   |284          |4.9   |\n",
            "|511|Maxine Scudders        |10085570   |412          |4.6   |\n",
            "|512|Caresa Ianizzi         |32178867   |67           |3.4   |\n",
            "|513|Taddeo Huckfield       |98917366   |469          |4.7   |\n",
            "|514|Viki Simoes            |80742315   |398          |4.8   |\n",
            "|515|Otis Joreau            |40654416   |384          |4.7   |\n",
            "+---+-----------------------+-----------+-------------+------+\n",
            "\n"
          ]
        }
      ]
    },
    {
      "cell_type": "code",
      "source": [
        "\n",
        "# Write DataFrame to CSV\n",
        "df.write.csv(\"people.csv\", header=True, mode=\"overwrite\")\n",
        "df.show()"
      ],
      "metadata": {
        "id": "SwQoRBDeQcRv",
        "colab": {
          "base_uri": "https://localhost:8080/"
        },
        "outputId": "323417dc-64de-4cfa-e913-0f0e13589299"
      },
      "execution_count": null,
      "outputs": [
        {
          "output_type": "stream",
          "name": "stdout",
          "text": [
            "+-----+---+---------+\n",
            "| name|age|      job|\n",
            "+-----+---+---------+\n",
            "|Jorge| 30|Developer|\n",
            "|  Bob| 32|Developer|\n",
            "+-----+---+---------+\n",
            "\n"
          ]
        }
      ]
    },
    {
      "cell_type": "markdown",
      "source": [
        "# Read Taxi JSON\n",
        "PySpark, a Python API for Apache Spark, handles JSON data efficiently using its powerful data processing capabilities. Some capabilities are:\n",
        "1. Reading / Writing from/to DataFrame/RDD\n",
        "2. Handling Nested JSON\n",
        "3. Performance tuning via caching, partition control and cluster management."
      ],
      "metadata": {
        "id": "DCWPBrdm8HMx"
      }
    },
    {
      "cell_type": "code",
      "source": [
        "df = spark.read .option(\"inferSchema\",\"true\") \\\n",
        "                .option(\"header\",\"true\") \\\n",
        "                .option(\"multiline\",\"True\") \\\n",
        "                .json(\"/content/drive/MyDrive/Colab Notebooks/data/BEAD_Rebu_TaxiCabs.json\")\n",
        "df.show()\n",
        "df.printSchema()\n",
        "\n"
      ],
      "metadata": {
        "colab": {
          "base_uri": "https://localhost:8080/",
          "height": 651
        },
        "id": "t4-4ynFsQqdb",
        "outputId": "6977ed5b-3b68-4ffb-9d9c-295c69098642"
      },
      "execution_count": 8,
      "outputs": [
        {
          "output_type": "stream",
          "name": "stdout",
          "text": [
            "+--------+---------+------+--------------------+----------+---------------------+--------+\n",
            "|  TMDTID|TaxiColor|TaxiID|       TaxiMakeModel|TaxiNumber|TaxiPassengerCapacity|TaxiType|\n",
            "+--------+---------+------+--------------------+----------+---------------------+--------+\n",
            "|TMA73889|   Yellow|     1|      Toyota Carolla|   SHZ2770|                    4|Standard|\n",
            "|TMC04591|    Green|     2|        Suzuki Swift|   SHY4378|                    4|Mini Cab|\n",
            "|TMA12020|     Blue|     3|        Toyota Prius|   SHX6464|                    4|Standard|\n",
            "|TMB02825|   Silver|     4| Toyota Camry Hybrid|   SHX4872|                    4| Premier|\n",
            "|TMC12882|    Green|     5|        Suzuki Swift|   SHX2609|                    4|Mini Cab|\n",
            "|TMC45713|    Cream|     6|      Mercedes Viano|   SHY9111|                    7|Maxi Cab|\n",
            "|TMA78092|     Blue|     7|Hyundai Ioniq Hybrid|   SHX5867|                    4|Standard|\n",
            "|TMB17549|     Blue|     8|         Hyundai i40|   SHY6907|                    4|Standard|\n",
            "|TMB85775|   Yellow|     9|      Toyota Carolla|   SHX7766|                    4|Standard|\n",
            "|TMA15463|    Green|    10|        Suzuki Swift|   SHX5844|                    4|Mini Cab|\n",
            "|TMB39828|     Blue|    11|      Toyota Carolla|   SHX3617|                    4|Standard|\n",
            "|TMC91623|   Yellow|    12|      Toyota Carolla|   SHX7492|                    4|Standard|\n",
            "|TMA52923|    Green|    13|        Suzuki Swift|   SHX6232|                    4|Mini Cab|\n",
            "|TMB11620|     Blue|    14|             Kia EV6|   SHY5882|                    5| Premier|\n",
            "|TMA71532|    White|    15|       Mercedes Benz|   SHX7048|                    4|Limosine|\n",
            "|TMB67907|   Silver|    16| Toyota Camry Hybrid|   SHY9209|                    4| Premier|\n",
            "|TMA39051|    White|    17|       Mercedes Benz|   SHY9725|                    4|Limosine|\n",
            "|TMC66738|     Grey|    18| Toyota Camry Hybrid|   SHY2915|                    4| Premier|\n",
            "|TMC76150|   Yellow|    19|        Toyota Prius|   SHX2226|                    4|Standard|\n",
            "|TMA67971|   Yellow|    20|        Toyota Prius|   SHY4290|                    4|Standard|\n",
            "+--------+---------+------+--------------------+----------+---------------------+--------+\n",
            "only showing top 20 rows\n",
            "\n"
          ]
        },
        {
          "output_type": "execute_result",
          "data": {
            "text/plain": [
              "<bound method DataFrame.printSchema of DataFrame[TMDTID: string, TaxiColor: string, TaxiID: bigint, TaxiMakeModel: string, TaxiNumber: string, TaxiPassengerCapacity: bigint, TaxiType: string]>"
            ],
            "text/html": [
              "<div style=\"max-width:800px; border: 1px solid var(--colab-border-color);\"><style>\n",
              "      pre.function-repr-contents {\n",
              "        overflow-x: auto;\n",
              "        padding: 8px 12px;\n",
              "        max-height: 500px;\n",
              "      }\n",
              "\n",
              "      pre.function-repr-contents.function-repr-contents-collapsed {\n",
              "        cursor: pointer;\n",
              "        max-height: 100px;\n",
              "      }\n",
              "    </style>\n",
              "    <pre style=\"white-space: initial; background:\n",
              "         var(--colab-secondary-surface-color); padding: 8px 12px;\n",
              "         border-bottom: 1px solid var(--colab-border-color);\"><b>pyspark.sql.dataframe.DataFrame.printSchema</b><br/>def printSchema(level: Optional[int]=None) -&gt; None</pre><pre class=\"function-repr-contents function-repr-contents-collapsed\" style=\"\"><a class=\"filepath\" style=\"display:none\" href=\"#\">/usr/local/lib/python3.10/dist-packages/pyspark/sql/dataframe.py</a>Prints out the schema in the tree format.\n",
              "Optionally allows to specify how many levels to print if schema is nested.\n",
              "\n",
              ".. versionadded:: 1.3.0\n",
              "\n",
              ".. versionchanged:: 3.4.0\n",
              "    Supports Spark Connect.\n",
              "\n",
              "Parameters\n",
              "----------\n",
              "level : int, optional, default None\n",
              "    How many levels to print for nested schemas.\n",
              "\n",
              "    .. versionchanged:: 3.5.0\n",
              "        Added Level parameter.\n",
              "\n",
              "Examples\n",
              "--------\n",
              "&gt;&gt;&gt; df = spark.createDataFrame(\n",
              "...     [(14, &quot;Tom&quot;), (23, &quot;Alice&quot;), (16, &quot;Bob&quot;)], [&quot;age&quot;, &quot;name&quot;])\n",
              "&gt;&gt;&gt; df.printSchema()\n",
              "root\n",
              " |-- age: long (nullable = true)\n",
              " |-- name: string (nullable = true)\n",
              "\n",
              "&gt;&gt;&gt; df = spark.createDataFrame([(1, (2,2))], [&quot;a&quot;, &quot;b&quot;])\n",
              "&gt;&gt;&gt; df.printSchema(1)\n",
              "root\n",
              " |-- a: long (nullable = true)\n",
              " |-- b: struct (nullable = true)\n",
              "\n",
              "&gt;&gt;&gt; df.printSchema(2)\n",
              "root\n",
              " |-- a: long (nullable = true)\n",
              " |-- b: struct (nullable = true)\n",
              " |    |-- _1: long (nullable = true)\n",
              " |    |-- _2: long (nullable = true)</pre>\n",
              "      <script>\n",
              "      if (google.colab.kernel.accessAllowed && google.colab.files && google.colab.files.view) {\n",
              "        for (const element of document.querySelectorAll('.filepath')) {\n",
              "          element.style.display = 'block'\n",
              "          element.onclick = (event) => {\n",
              "            event.preventDefault();\n",
              "            event.stopPropagation();\n",
              "            google.colab.files.view(element.textContent, 581);\n",
              "          };\n",
              "        }\n",
              "      }\n",
              "      for (const element of document.querySelectorAll('.function-repr-contents')) {\n",
              "        element.onclick = (event) => {\n",
              "          event.preventDefault();\n",
              "          event.stopPropagation();\n",
              "          element.classList.toggle('function-repr-contents-collapsed');\n",
              "        };\n",
              "      }\n",
              "      </script>\n",
              "      </div>"
            ]
          },
          "metadata": {},
          "execution_count": 8
        }
      ]
    },
    {
      "cell_type": "code",
      "source": [
        "df.sort('TaxiNumber').show()"
      ],
      "metadata": {
        "colab": {
          "base_uri": "https://localhost:8080/"
        },
        "id": "y-ggJClyorYj",
        "outputId": "8c0c61cd-ad65-49d3-9626-0d4214983931"
      },
      "execution_count": 9,
      "outputs": [
        {
          "output_type": "stream",
          "name": "stdout",
          "text": [
            "+--------+---------+------+--------------------+----------+---------------------+--------+\n",
            "|  TMDTID|TaxiColor|TaxiID|       TaxiMakeModel|TaxiNumber|TaxiPassengerCapacity|TaxiType|\n",
            "+--------+---------+------+--------------------+----------+---------------------+--------+\n",
            "|TMB18597|    White|    59|       Mercedes Benz|   SHX0106|                    4|Limosine|\n",
            "|TMB76389|   Yellow|   464|Hyundai Ioniq Hybrid|   SHX0278|                    4|Standard|\n",
            "|TMA22172|   Yellow|   352|Hyundai Ioniq Hybrid|   SHX0354|                    4|Standard|\n",
            "|TMB30762|     Grey|   236| Toyota Camry Hybrid|   SHX0399|                    4| Premier|\n",
            "|TMA25750|     Grey|   188| Toyota Camry Hybrid|   SHX0541|                    4| Premier|\n",
            "|TMB51371|    White|    32|       Mercedes Benz|   SHX0588|                    4|Limosine|\n",
            "|TMC74051|    Black|   378|     Toyota Vellfire|   SHX0613|                    6|Maxi Cab|\n",
            "|TMA27837|     Blue|   460|         Hyundai i40|   SHX0694|                    4|Standard|\n",
            "|TMC96842|     Blue|   247|             Kia EV6|   SHX0732|                    5| Premier|\n",
            "|TMC20008|   Yellow|   260|        Toyota Prius|   SHX0791|                    4|Standard|\n",
            "|TMA66613|   Yellow|   132|             Kia EV6|   SHX0830|                    5| Premier|\n",
            "|TMB27976|    Brown|   104|           Honda Fit|   SHX0897|                    3|Mini Cab|\n",
            "|TMC78239|   Yellow|   239|         Hyundai i40|   SHX0907|                    4|Standard|\n",
            "|TMA72574|      Red|   507|           Honda Fit|   SHX0915|                    3|Mini Cab|\n",
            "|TMA63673|      Red|   512|           Honda Fit|   SHX0915|                    3|Mini Cab|\n",
            "|TMA38948|    White|   164|       Mercedes Benz|   SHX0941|                    4|Limosine|\n",
            "|TMB11317|   Yellow|    51|        Toyota Prius|   SHX1022|                    4|Standard|\n",
            "|TMC80644|    White|   272|       Mercedes Benz|   SHX1030|                    4|Limosine|\n",
            "|TMC80617|      Red|   115|           Honda Fit|   SHX1043|                    3|Mini Cab|\n",
            "|TMA49443|     Blue|   102|      Toyota Carolla|   SHX1081|                    4|Standard|\n",
            "+--------+---------+------+--------------------+----------+---------------------+--------+\n",
            "only showing top 20 rows\n",
            "\n"
          ]
        }
      ]
    },
    {
      "cell_type": "markdown",
      "source": [
        "df.sort('TaxiNumber').show()"
      ],
      "metadata": {
        "id": "zIOh7skTp8ZU"
      }
    },
    {
      "cell_type": "code",
      "source": [
        "df.where(\"TaxiType = 'Premier' AND TaxiPassengerCapacity= 4\").show()"
      ],
      "metadata": {
        "colab": {
          "base_uri": "https://localhost:8080/"
        },
        "id": "o9pHsJqypVpc",
        "outputId": "896d4a1c-3a61-49c3-99da-ba8d0710ca91"
      },
      "execution_count": 15,
      "outputs": [
        {
          "output_type": "stream",
          "name": "stdout",
          "text": [
            "+--------+---------+------+-------------------+----------+---------------------+--------+\n",
            "|  TMDTID|TaxiColor|TaxiID|      TaxiMakeModel|TaxiNumber|TaxiPassengerCapacity|TaxiType|\n",
            "+--------+---------+------+-------------------+----------+---------------------+--------+\n",
            "|TMB02825|   Silver|     4|Toyota Camry Hybrid|   SHX4872|                    4| Premier|\n",
            "|TMB67907|   Silver|    16|Toyota Camry Hybrid|   SHY9209|                    4| Premier|\n",
            "|TMC66738|     Grey|    18|Toyota Camry Hybrid|   SHY2915|                    4| Premier|\n",
            "|TMC10802|     Grey|    23|Toyota Camry Hybrid|   SHY9485|                    4| Premier|\n",
            "|TMA12261|     Grey|    37|Toyota Camry Hybrid|   SHY7838|                    4| Premier|\n",
            "|TMA41233|   Silver|    43|Toyota Camry Hybrid|   SHX5153|                    4| Premier|\n",
            "|TMA79747|     Grey|    57|Toyota Camry Hybrid|   SHY3876|                    4| Premier|\n",
            "|TMB16199|   Silver|    60|Toyota Camry Hybrid|   SHZ3746|                    4| Premier|\n",
            "|TMC67061|   Silver|    84|Toyota Camry Hybrid|   SHX4335|                    4| Premier|\n",
            "|TMA22969|     Grey|    98|Toyota Camry Hybrid|   SHY2548|                    4| Premier|\n",
            "|TMA98590|   Silver|   108|Toyota Camry Hybrid|   SHX7074|                    4| Premier|\n",
            "|TMB35280|     Grey|   149|Toyota Camry Hybrid|   SHZ7300|                    4| Premier|\n",
            "|TMB49478|   Silver|   152|Toyota Camry Hybrid|   SHY8172|                    4| Premier|\n",
            "|TMC46427|   Silver|   167|Toyota Camry Hybrid|   SHY4629|                    4| Premier|\n",
            "|TMC70256|   Silver|   174|Toyota Camry Hybrid|   SHY4078|                    4| Premier|\n",
            "|TMA25750|     Grey|   188|Toyota Camry Hybrid|   SHX0541|                    4| Premier|\n",
            "|TMA29795|   Silver|   199|Toyota Camry Hybrid|   SHX6044|                    4| Premier|\n",
            "|TMA38700|   Silver|   228|Toyota Camry Hybrid|   SHY2306|                    4| Premier|\n",
            "|TMB30762|     Grey|   236|Toyota Camry Hybrid|   SHX0399|                    4| Premier|\n",
            "|TMB53278|     Grey|   241|Toyota Camry Hybrid|   SHY6935|                    4| Premier|\n",
            "+--------+---------+------+-------------------+----------+---------------------+--------+\n",
            "only showing top 20 rows\n",
            "\n"
          ]
        }
      ]
    },
    {
      "cell_type": "markdown",
      "source": [
        "Retrieve all 4 seaters Premier Taxi"
      ],
      "metadata": {
        "id": "YoGrqvBDsZ_m"
      }
    },
    {
      "cell_type": "code",
      "source": [
        "df.select('TaxiNumber', 'TaxiType', 'TaxiColor').where(\"TaxiType = 'Premier'\").show()"
      ],
      "metadata": {
        "id": "BQTkA25IsZoQ"
      },
      "execution_count": null,
      "outputs": []
    },
    {
      "cell_type": "markdown",
      "source": [
        "# Read Trip DATA CSV"
      ],
      "metadata": {
        "id": "A1ahckMutg3D"
      }
    },
    {
      "cell_type": "code",
      "source": [
        "# Read CSV file people.csv\n",
        "df = spark.read.format('csv') \\\n",
        "                .option(\"inferSchema\",\"true\") \\\n",
        "                .option(\"header\",\"true\") \\\n",
        "                .load(\"/content/drive/MyDrive/Colab Notebooks/data/BEAD_Rebu_TripData.csv\")\n",
        "\n",
        "# Show result\n",
        "df.show()"
      ],
      "metadata": {
        "id": "YqS-UXKt1ShG",
        "outputId": "b5688650-757d-42b8-d0d4-0fc3ea382a85",
        "colab": {
          "base_uri": "https://localhost:8080/"
        }
      },
      "execution_count": 16,
      "outputs": [
        {
          "output_type": "stream",
          "name": "stdout",
          "text": [
            "+---+--------+---+-----------+--------------------+-----------------+-----------------+------------------+------------------------+-------------------+-----------+---------+-------------+--------------------+---------+------------+--------------+\n",
            "|Sno|    Date|Day|Hour of Day|Trip Start Time HHMM|  Pickup District| DropOff District|Distance Travelled|Trip Duration in Seconds|      Trip End Time|Taxi Number|Taxi Type|Taxi Capacity|Number Of Passengers|Trip Fare|Passenger ID|Passenger Name|\n",
            "+---+--------+---+-----------+--------------------+-----------------+-----------------+------------------+------------------------+-------------------+-----------+---------+-------------+--------------------+---------+------------+--------------+\n",
            "|  1|1-Jan-24|Mon|          0| 2024-07-20 00:01:00|        Kew Drive|         Clementi|              25.1|                    3001|2024-07-20 01:50:00|    SHY6685| Standard|            4|                   2|    49.91|       11841|     Ellen Han|\n",
            "|  2|1-Jan-24|Mon|          0| 2024-07-20 00:01:00|           Marina|    Clementi Park|              12.8|                    1671|2024-07-20 00:29:00|    SHY1488| Mini Cab|            3|                   3|    28.17|       10126|  Matthew Feng|\n",
            "|  3|1-Jan-24|Mon|          0| 2024-07-20 00:02:00|           Bishan|      Hume Avenue|              19.8|                    3332|2024-07-20 01:57:00|    SHX0354| Standard|            4|                   1|    44.67|       11259|      Agnes Bi|\n",
            "|  4|1-Jan-24|Mon|          0| 2024-07-20 00:05:00|      Suntec City| Upper East Coast|              16.8|                    2904|2024-07-20 01:52:00|    SHZ0338| Mini Cab|            3|                   1|    37.54|       10710|   Harry Huang|\n",
            "|  5|1-Jan-24|Mon|          0| 2024-07-20 00:06:00|        Chinatown|          Geylang|              17.6|                    2413|2024-07-20 01:45:00|    SHY5827| Mini Cab|            4|                   3|    34.62|       11250|  Frederick Ke|\n",
            "|  6|1-Jan-24|Mon|          0| 2024-07-20 00:08:00|   Admiralty Road|      High Street|              13.6|                    1812|2024-07-20 01:37:00|    SHX4463|  Premier|            4|                   4|    28.71|       12313|    George Guo|\n",
            "|  7|1-Jan-24|Mon|          0| 2024-07-20 00:08:00|       Macpherson|   Admiralty Road|               2.3|                     507|2024-07-20 00:16:00|    SHX7806| Maxi Cab|            7|                   7|     8.11|       11347|     Ethel Man|\n",
            "|  8|1-Jan-24|Mon|          0| 2024-07-20 00:09:00|      Middle Road|Orchard Boulevard|               4.9|                     845|2024-07-20 00:23:00|    SHY1409| Standard|            4|                   1|    12.43|       11178|   Judith Gong|\n",
            "|  9|1-Jan-24|Mon|          0| 2024-07-20 00:09:00|       East Coast|         Hillview|              29.5|                    3740|2024-07-20 01:10:00|    SHX7554| Standard|            4|                   2|    55.69|       11554|     Ruby Ling|\n",
            "| 10|1-Jan-24|Mon|          0| 2024-07-20 00:09:00|North Bridge Road|      Middle Road|               2.1|                     489|2024-07-20 00:17:00|    SHY6024| Standard|            4|                   1|     7.74|       12225|     Derek Cha|\n",
            "| 11|1-Jan-24|Mon|          0| 2024-07-20 00:09:00|        Pasir Ris|          Seletar|               9.9|                    1097|2024-07-20 00:28:00|    SHX2773| Standard|            4|                   1|    24.69|       10667|   Kelly Chang|\n",
            "| 12|1-Jan-24|Mon|          0| 2024-07-20 00:10:00|            Bedok|           Marina|              18.0|                    2739|2024-07-20 01:55:00|    SHY0615| Standard|            4|                   3|    42.85|       10937|    Iris Zhang|\n",
            "| 13|1-Jan-24|Mon|          0| 2024-07-20 00:10:00|   Admiralty Road|       Queenstown|               8.7|                    1332|2024-07-20 01:32:00|    SHY7111| Standard|            4|                   1|    20.52|       10578|     Jane Heng|\n",
            "| 14|1-Jan-24|Mon|          0| 2024-07-20 00:11:00|      Paya Lebar |    Clementi Park|              22.3|                    3267|2024-07-20 01:05:00|    SHY9805| Mini Cab|            3|                   2|     43.0|       10501|     Alan Weng|\n",
            "| 15|1-Jan-24|Mon|          0| 2024-07-20 00:12:00|     Harbourfront|    Sungei Gedong|              19.3|                    2668|2024-07-20 01:56:00|    SHX7757| Maxi Cab|            6|                   3|    38.23|       10146|  Sai Merchant|\n",
            "| 16|1-Jan-24|Mon|          0| 2024-07-20 00:12:00|          Seletar|           Keppel|               5.2|                     957|2024-07-20 00:28:00|    SHY4520|  Premier|            4|                   2|    14.47|       12074|    Melissa Wu|\n",
            "| 17|1-Jan-24|Mon|          0| 2024-07-20 00:14:00|      Shenton Way|      Bouna Vista|               5.9|                     942|2024-07-20 00:29:00|    SHY9111| Standard|            4|                   4|    14.53|       11260|     Louis Tai|\n",
            "| 18|1-Jan-24|Mon|          0| 2024-07-20 00:14:00|      Tanjong Rhu|           Jurong|              25.9|                    3261|2024-07-20 01:08:00|    SHZ9323| Maxi Cab|            7|                   6|    54.62|       12139|     Sydney Ke|\n",
            "| 19|1-Jan-24|Mon|          0| 2024-07-20 00:16:00|             Sims|           Katong|               3.4|                     583|2024-07-20 00:26:00|    SHZ6559| Mini Cab|            4|                   2|    10.04|       11583|   Parin Dubey|\n",
            "| 20|1-Jan-24|Mon|          0| 2024-07-20 00:22:00| Upper East Coast|           Yishun|               5.6|                     902|2024-07-20 01:36:00|    SHX9762| Standard|            4|                   4|    15.29|       10885|   Rosina Teng|\n",
            "+---+--------+---+-----------+--------------------+-----------------+-----------------+------------------+------------------------+-------------------+-----------+---------+-------------+--------------------+---------+------------+--------------+\n",
            "only showing top 20 rows\n",
            "\n"
          ]
        }
      ]
    },
    {
      "cell_type": "markdown",
      "source": [
        "Average distance per trip in January 2024"
      ],
      "metadata": {
        "id": "4WmKnhAU12tS"
      }
    },
    {
      "cell_type": "code",
      "source": [
        "from pyspark.sql.functions import *\n",
        "\n",
        "df.agg(avg(\"Distance Travelled\")).first()[0]"
      ],
      "metadata": {
        "id": "qwkJUb832pFp",
        "outputId": "ac2bf16f-4de3-4e7c-f7ca-67450dcf809a",
        "colab": {
          "base_uri": "https://localhost:8080/"
        }
      },
      "execution_count": 20,
      "outputs": [
        {
          "output_type": "execute_result",
          "data": {
            "text/plain": [
              "11.90267497177833"
            ]
          },
          "metadata": {},
          "execution_count": 20
        }
      ]
    },
    {
      "cell_type": "markdown",
      "source": [
        "Total Fare collected by taxi type"
      ],
      "metadata": {
        "id": "iPwEMXw_4FhR"
      }
    },
    {
      "cell_type": "code",
      "source": [
        "df.groupBy('Taxi Type').sum(\"Trip Fare\").where(df['Taxi Type'] == 'Maxi Cab').first()[1]"
      ],
      "metadata": {
        "colab": {
          "base_uri": "https://localhost:8080/"
        },
        "id": "mnazBgSd4OhM",
        "outputId": "264bf43e-22de-4de9-b5ca-720c9278cb87"
      },
      "execution_count": 59,
      "outputs": [
        {
          "output_type": "execute_result",
          "data": {
            "text/plain": [
              "124899.2199999994"
            ]
          },
          "metadata": {},
          "execution_count": 59
        }
      ]
    },
    {
      "cell_type": "markdown",
      "source": [
        "Average Occupancies (no of passenger/passenger capacity) for standtaxi"
      ],
      "metadata": {
        "id": "6KZlEgwL9kHq"
      }
    },
    {
      "cell_type": "code",
      "source": [
        "df.where(df['Taxi Type'] == 'Standard').agg(avg(df['Number Of Passengers']/df['Taxi Capacity'])).first()[0]"
      ],
      "metadata": {
        "id": "EaKwuCh_7R26",
        "outputId": "5995c25d-f187-4975-f70c-aff231cd2e54",
        "colab": {
          "base_uri": "https://localhost:8080/"
        }
      },
      "execution_count": 66,
      "outputs": [
        {
          "output_type": "execute_result",
          "data": {
            "text/plain": [
              "0.5380241501943595"
            ]
          },
          "metadata": {},
          "execution_count": 66
        }
      ]
    },
    {
      "cell_type": "markdown",
      "source": [
        "Fare collected by day of week from Mon to Sunday"
      ],
      "metadata": {
        "id": "lej4LT-K-mhy"
      }
    },
    {
      "cell_type": "code",
      "source": [
        "df.cube('Day','Hour of Day').sum('Trip Fare').sort('Day').show()"
      ],
      "metadata": {
        "id": "m_CWyyNp-sT4",
        "outputId": "54c07356-8adf-4984-f6b3-5d92d546916c",
        "colab": {
          "base_uri": "https://localhost:8080/"
        }
      },
      "execution_count": 75,
      "outputs": [
        {
          "output_type": "stream",
          "name": "stdout",
          "text": [
            "+----+-----------+------------------+\n",
            "| Day|Hour of Day|    sum(Trip Fare)|\n",
            "+----+-----------+------------------+\n",
            "|NULL|         16| 35219.11999999999|\n",
            "|NULL|         15| 26466.63000000004|\n",
            "|NULL|         12| 27622.38999999998|\n",
            "|NULL|         21|  69611.3300000002|\n",
            "|NULL|          6| 53495.05000000001|\n",
            "|NULL|          7| 98835.91999999977|\n",
            "|NULL|         11|26267.180000000004|\n",
            "|NULL|          0|          14407.94|\n",
            "|NULL|          4| 27207.75000000001|\n",
            "|NULL|         23| 27986.88000000001|\n",
            "|NULL|          2| 27876.15000000002|\n",
            "|NULL|         17| 62625.73000000003|\n",
            "|NULL|          9| 88342.87999999982|\n",
            "|NULL|          8|115967.63000000008|\n",
            "|NULL|       NULL|1178257.5900000082|\n",
            "|NULL|          3|28214.950000000033|\n",
            "|NULL|         10| 45799.61000000005|\n",
            "|NULL|         14|25106.230000000003|\n",
            "|NULL|         18|  81033.4800000002|\n",
            "|NULL|         13|27023.370000000014|\n",
            "+----+-----------+------------------+\n",
            "only showing top 20 rows\n",
            "\n"
          ]
        }
      ]
    },
    {
      "cell_type": "markdown",
      "source": [
        "Compare total number of trips made by all taxis in weekend vs total"
      ],
      "metadata": {
        "id": "b2uGt9XuBc-E"
      }
    },
    {
      "cell_type": "code",
      "source": [],
      "metadata": {
        "id": "lb2ittOHBofZ",
        "outputId": "d3bc4d21-6313-4d93-abec-5a23fa63e39b",
        "colab": {
          "base_uri": "https://localhost:8080/",
          "height": 382
        }
      },
      "execution_count": 76,
      "outputs": [
        {
          "output_type": "error",
          "ename": "AnalysisException",
          "evalue": "[UNRESOLVED_COLUMN.WITH_SUGGESTION] A column or function parameter with name `DAY == 'Mon'` cannot be resolved. Did you mean one of the following? [`Date`, `Day`, `Hour of Day`, `Sno`, `Taxi Type`].;\n'Project ['DAY == 'Mon']\n+- Relation [Sno#431,Date#432,Day#433,Hour of Day#434,Trip Start Time HHMM#435,Pickup District#436, DropOff District#437,Distance Travelled#438,Trip Duration in Seconds#439,Trip End Time#440,Taxi Number#441,Taxi Type#442,Taxi Capacity#443,Number Of Passengers#444,Trip Fare#445,Passenger ID#446,Passenger Name#447] csv\n",
          "traceback": [
            "\u001b[0;31m---------------------------------------------------------------------------\u001b[0m",
            "\u001b[0;31mAnalysisException\u001b[0m                         Traceback (most recent call last)",
            "\u001b[0;32m<ipython-input-76-2652543b5378>\u001b[0m in \u001b[0;36m<cell line: 1>\u001b[0;34m()\u001b[0m\n\u001b[0;32m----> 1\u001b[0;31m \u001b[0mdf\u001b[0m\u001b[0;34m.\u001b[0m\u001b[0mselect\u001b[0m\u001b[0;34m(\u001b[0m\u001b[0;34m\"DAY == 'Mon'\"\u001b[0m\u001b[0;34m)\u001b[0m\u001b[0;34m.\u001b[0m\u001b[0mshow\u001b[0m\u001b[0;34m(\u001b[0m\u001b[0;34m)\u001b[0m\u001b[0;34m\u001b[0m\u001b[0;34m\u001b[0m\u001b[0m\n\u001b[0m",
            "\u001b[0;32m/usr/local/lib/python3.10/dist-packages/pyspark/sql/dataframe.py\u001b[0m in \u001b[0;36mselect\u001b[0;34m(self, *cols)\u001b[0m\n\u001b[1;32m   3225\u001b[0m         \u001b[0;34m+\u001b[0m\u001b[0;34m-\u001b[0m\u001b[0;34m-\u001b[0m\u001b[0;34m-\u001b[0m\u001b[0;34m-\u001b[0m\u001b[0;34m-\u001b[0m\u001b[0;34m+\u001b[0m\u001b[0;34m-\u001b[0m\u001b[0;34m-\u001b[0m\u001b[0;34m-\u001b[0m\u001b[0;34m+\u001b[0m\u001b[0;34m\u001b[0m\u001b[0;34m\u001b[0m\u001b[0m\n\u001b[1;32m   3226\u001b[0m         \"\"\"\n\u001b[0;32m-> 3227\u001b[0;31m         \u001b[0mjdf\u001b[0m \u001b[0;34m=\u001b[0m \u001b[0mself\u001b[0m\u001b[0;34m.\u001b[0m\u001b[0m_jdf\u001b[0m\u001b[0;34m.\u001b[0m\u001b[0mselect\u001b[0m\u001b[0;34m(\u001b[0m\u001b[0mself\u001b[0m\u001b[0;34m.\u001b[0m\u001b[0m_jcols\u001b[0m\u001b[0;34m(\u001b[0m\u001b[0;34m*\u001b[0m\u001b[0mcols\u001b[0m\u001b[0;34m)\u001b[0m\u001b[0;34m)\u001b[0m\u001b[0;34m\u001b[0m\u001b[0;34m\u001b[0m\u001b[0m\n\u001b[0m\u001b[1;32m   3228\u001b[0m         \u001b[0;32mreturn\u001b[0m \u001b[0mDataFrame\u001b[0m\u001b[0;34m(\u001b[0m\u001b[0mjdf\u001b[0m\u001b[0;34m,\u001b[0m \u001b[0mself\u001b[0m\u001b[0;34m.\u001b[0m\u001b[0msparkSession\u001b[0m\u001b[0;34m)\u001b[0m\u001b[0;34m\u001b[0m\u001b[0;34m\u001b[0m\u001b[0m\n\u001b[1;32m   3229\u001b[0m \u001b[0;34m\u001b[0m\u001b[0m\n",
            "\u001b[0;32m/usr/local/lib/python3.10/dist-packages/py4j/java_gateway.py\u001b[0m in \u001b[0;36m__call__\u001b[0;34m(self, *args)\u001b[0m\n\u001b[1;32m   1320\u001b[0m \u001b[0;34m\u001b[0m\u001b[0m\n\u001b[1;32m   1321\u001b[0m         \u001b[0manswer\u001b[0m \u001b[0;34m=\u001b[0m \u001b[0mself\u001b[0m\u001b[0;34m.\u001b[0m\u001b[0mgateway_client\u001b[0m\u001b[0;34m.\u001b[0m\u001b[0msend_command\u001b[0m\u001b[0;34m(\u001b[0m\u001b[0mcommand\u001b[0m\u001b[0;34m)\u001b[0m\u001b[0;34m\u001b[0m\u001b[0;34m\u001b[0m\u001b[0m\n\u001b[0;32m-> 1322\u001b[0;31m         return_value = get_return_value(\n\u001b[0m\u001b[1;32m   1323\u001b[0m             answer, self.gateway_client, self.target_id, self.name)\n\u001b[1;32m   1324\u001b[0m \u001b[0;34m\u001b[0m\u001b[0m\n",
            "\u001b[0;32m/usr/local/lib/python3.10/dist-packages/pyspark/errors/exceptions/captured.py\u001b[0m in \u001b[0;36mdeco\u001b[0;34m(*a, **kw)\u001b[0m\n\u001b[1;32m    183\u001b[0m                 \u001b[0;31m# Hide where the exception came from that shows a non-Pythonic\u001b[0m\u001b[0;34m\u001b[0m\u001b[0;34m\u001b[0m\u001b[0m\n\u001b[1;32m    184\u001b[0m                 \u001b[0;31m# JVM exception message.\u001b[0m\u001b[0;34m\u001b[0m\u001b[0;34m\u001b[0m\u001b[0m\n\u001b[0;32m--> 185\u001b[0;31m                 \u001b[0;32mraise\u001b[0m \u001b[0mconverted\u001b[0m \u001b[0;32mfrom\u001b[0m \u001b[0;32mNone\u001b[0m\u001b[0;34m\u001b[0m\u001b[0;34m\u001b[0m\u001b[0m\n\u001b[0m\u001b[1;32m    186\u001b[0m             \u001b[0;32melse\u001b[0m\u001b[0;34m:\u001b[0m\u001b[0;34m\u001b[0m\u001b[0;34m\u001b[0m\u001b[0m\n\u001b[1;32m    187\u001b[0m                 \u001b[0;32mraise\u001b[0m\u001b[0;34m\u001b[0m\u001b[0;34m\u001b[0m\u001b[0m\n",
            "\u001b[0;31mAnalysisException\u001b[0m: [UNRESOLVED_COLUMN.WITH_SUGGESTION] A column or function parameter with name `DAY == 'Mon'` cannot be resolved. Did you mean one of the following? [`Date`, `Day`, `Hour of Day`, `Sno`, `Taxi Type`].;\n'Project ['DAY == 'Mon']\n+- Relation [Sno#431,Date#432,Day#433,Hour of Day#434,Trip Start Time HHMM#435,Pickup District#436, DropOff District#437,Distance Travelled#438,Trip Duration in Seconds#439,Trip End Time#440,Taxi Number#441,Taxi Type#442,Taxi Capacity#443,Number Of Passengers#444,Trip Fare#445,Passenger ID#446,Passenger Name#447] csv\n"
          ]
        }
      ]
    }
  ]
}