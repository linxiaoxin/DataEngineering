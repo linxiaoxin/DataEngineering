{
  "nbformat": 4,
  "nbformat_minor": 0,
  "metadata": {
    "colab": {
      "provenance": [],
      "include_colab_link": true
    },
    "kernelspec": {
      "name": "python3",
      "display_name": "Python 3"
    },
    "language_info": {
      "name": "python"
    }
  },
  "cells": [
    {
      "cell_type": "markdown",
      "metadata": {
        "id": "view-in-github",
        "colab_type": "text"
      },
      "source": [
        "<a href=\"https://colab.research.google.com/github/linxiaoxin/DataEngineering/blob/main/colab/Spark%20Query%20Language%20Workshop%20Final.ipynb\" target=\"_parent\"><img src=\"https://colab.research.google.com/assets/colab-badge.svg\" alt=\"Open In Colab\"/></a>"
      ]
    },
    {
      "cell_type": "markdown",
      "source": [
        "# Introduction\n",
        "PySpark provides interface used to load DataFrame from external storage systems. We will learn how to read different data format files into DataFrame and write DataFrame back to different data format files using PySpark examples. Lastly, we will learn how to transfer data between JVM and Python processes using Apache Arrow efficiently."
      ],
      "metadata": {
        "id": "sVqS3ArJMe10"
      }
    },
    {
      "cell_type": "code",
      "source": [
        "# install pyspark using pip\n",
        "!pip install --ignore-install -q pyspark\n",
        "# install findspark using pip\n",
        "!pip install --ignore-install -q findspark\n",
        "\n",
        "#from pyspark import SparkConf,SparkContext\n",
        "from pyspark.sql import SparkSession\n",
        "import collections\n",
        "spark = SparkSession.builder.master(\"local\").appName(\"Ingestion\").config('spark.ui.port', '4050').getOrCreate()"
      ],
      "metadata": {
        "colab": {
          "base_uri": "https://localhost:8080/"
        },
        "id": "_rxLbtikMr9r",
        "outputId": "9c975ed6-688d-4bc5-8bab-bbf637c1d2bd",
        "collapsed": true
      },
      "execution_count": 6,
      "outputs": [
        {
          "output_type": "stream",
          "name": "stdout",
          "text": [
            "\u001b[2K     \u001b[90m━━━━━━━━━━━━━━━━━━━━━━━━━━━━━━━━━━━━━━━━\u001b[0m \u001b[32m317.0/317.0 MB\u001b[0m \u001b[31m1.9 MB/s\u001b[0m eta \u001b[36m0:00:00\u001b[0m\n",
            "\u001b[?25h  Preparing metadata (setup.py) ... \u001b[?25l\u001b[?25hdone\n",
            "\u001b[2K     \u001b[90m━━━━━━━━━━━━━━━━━━━━━━━━━━━━━━━━━━━━━━━━\u001b[0m \u001b[32m200.5/200.5 kB\u001b[0m \u001b[31m17.9 MB/s\u001b[0m eta \u001b[36m0:00:00\u001b[0m\n",
            "\u001b[?25h  Building wheel for pyspark (setup.py) ... \u001b[?25l\u001b[?25hdone\n"
          ]
        }
      ]
    },
    {
      "cell_type": "code",
      "source": [
        "from google.colab import drive\n",
        "drive.mount('/content/drive')"
      ],
      "metadata": {
        "colab": {
          "base_uri": "https://localhost:8080/"
        },
        "id": "JXsWfDqpQCNX",
        "outputId": "9926b723-02b8-4389-8510-4178d0b0c493"
      },
      "execution_count": 3,
      "outputs": [
        {
          "output_type": "stream",
          "name": "stdout",
          "text": [
            "Mounted at /content/drive\n"
          ]
        }
      ]
    },
    {
      "cell_type": "markdown",
      "source": [
        "# Read Driver CSV file\n",
        "PySpark provides DataFrameReader to load a DataFrame from external storage systems (e.g. file systems, key-value stores, etc). Use SparkSession.read to access this. You can use format(source) to specify the input data source format.  \n",
        "Using csv(\"path\") or format(\"csv\").load(\"path\") of DataFrameReader, you can read a CSV file into a PySpark DataFrame, These methods take a file path to read from as an argument. When you use format(\"csv\") method, you can also specify the data sources by their fully qualified name, but for built-in sources, you can simply use their short names (csv,json, parquet, jdbc, text e.t.c).\n",
        "In this example, it shows how to read a single CSV file “people.csv” into DataFrame as well as how to use your own defined schema when read file into DataFrame.\n"
      ],
      "metadata": {
        "id": "rtxOtI2IMkrM"
      }
    },
    {
      "cell_type": "code",
      "execution_count": 5,
      "metadata": {
        "colab": {
          "base_uri": "https://localhost:8080/"
        },
        "id": "CCPBBuBXMIia",
        "outputId": "0cb66864-1f82-4249-8393-8892080c21e6"
      },
      "outputs": [
        {
          "output_type": "stream",
          "name": "stdout",
          "text": [
            "+---+-----------------+-----------+-------------+------+\n",
            "|Sno|       DriverName|DriverPhone|TaxiIDDriving|Rating|\n",
            "+---+-----------------+-----------+-------------+------+\n",
            "|  1|Georgiana Iverson|   38587202|          209|   1.7|\n",
            "|  2|   Ewell Rolstone|   88675586|          243|   4.9|\n",
            "|  3|    Pedro Thacker|   94452422|          197|   2.6|\n",
            "|  4|     Winn Kellard|   81521505|          456|   4.8|\n",
            "|  5|   Ermin Trounson|   21644415|          372|   4.1|\n",
            "|  6| Weylin Bernhardi|   89930924|          397|   4.7|\n",
            "|  7|  Giuseppe Manton|   78503208|          463|   3.3|\n",
            "|  8| Friedrich De'Ath|   64901517|          264|   4.4|\n",
            "|  9|  Lauraine Galton|   28736147|          367|   4.7|\n",
            "| 10|   Debra Willeman|   97189395|          277|   4.6|\n",
            "| 11| Francene Gavriel|   88137354|           32|   4.9|\n",
            "| 12|     Eyde Brosini|   34871916|          386|   4.2|\n",
            "| 13|  Orelia Woolfoot|   28037658|          329|   4.1|\n",
            "| 14|Christi Middleton|   97577827|          453|   4.8|\n",
            "| 15|     Jamey Cecely|   48329871|          418|   4.7|\n",
            "| 16|  Rosetta Matanin|   59730924|          335|   3.4|\n",
            "| 17|Antonina Newlands|   50182407|          255|   3.3|\n",
            "| 18|  Eilis MacGraith|   87527429|          385|   4.5|\n",
            "| 19|    Cozmo Macenzy|   20817333|          503|   4.5|\n",
            "| 20| Demetrius Fuente|   66677742|          500|   3.0|\n",
            "+---+-----------------+-----------+-------------+------+\n",
            "only showing top 20 rows\n",
            "\n",
            "root\n",
            " |-- Sno: integer (nullable = true)\n",
            " |-- DriverName: string (nullable = true)\n",
            " |-- DriverPhone: integer (nullable = true)\n",
            " |-- TaxiIDDriving: integer (nullable = true)\n",
            " |-- Rating: double (nullable = true)\n",
            "\n"
          ]
        },
        {
          "output_type": "execute_result",
          "data": {
            "text/plain": [
              "DataFrame[]"
            ]
          },
          "metadata": {},
          "execution_count": 5
        }
      ],
      "source": [
        "# Read CSV file people.csv\n",
        "df = spark.read.format('csv') \\\n",
        "                .option(\"inferSchema\",\"true\") \\\n",
        "                .option(\"header\",\"true\") \\\n",
        "                .load(\"/content/drive/MyDrive/Colab Notebooks/data/BEAD_Rebu_Drivers.csv\")\n",
        "\n",
        "# Show result\n",
        "df.show()\n",
        "\n",
        "# Print schema\n",
        "df.printSchema()\n"
      ]
    },
    {
      "cell_type": "code",
      "source": [
        "driversCount = df.count()\n",
        "df.show(driversCount, False)"
      ],
      "metadata": {
        "id": "tU_A5Ljvntc7"
      },
      "execution_count": null,
      "outputs": []
    },
    {
      "cell_type": "code",
      "source": [
        "\n",
        "# Write DataFrame to CSV\n",
        "df.write.csv(\"people.csv\", header=True, mode=\"overwrite\")\n",
        "df.show()"
      ],
      "metadata": {
        "id": "SwQoRBDeQcRv",
        "colab": {
          "base_uri": "https://localhost:8080/"
        },
        "outputId": "323417dc-64de-4cfa-e913-0f0e13589299"
      },
      "execution_count": null,
      "outputs": [
        {
          "output_type": "stream",
          "name": "stdout",
          "text": [
            "+-----+---+---------+\n",
            "| name|age|      job|\n",
            "+-----+---+---------+\n",
            "|Jorge| 30|Developer|\n",
            "|  Bob| 32|Developer|\n",
            "+-----+---+---------+\n",
            "\n"
          ]
        }
      ]
    },
    {
      "cell_type": "markdown",
      "source": [
        "# Read Taxi JSON\n",
        "PySpark, a Python API for Apache Spark, handles JSON data efficiently using its powerful data processing capabilities. Some capabilities are:\n",
        "1. Reading / Writing from/to DataFrame/RDD\n",
        "2. Handling Nested JSON\n",
        "3. Performance tuning via caching, partition control and cluster management."
      ],
      "metadata": {
        "id": "DCWPBrdm8HMx"
      }
    },
    {
      "cell_type": "code",
      "source": [
        "df = spark.read .option(\"inferSchema\",\"true\") \\\n",
        "                .option(\"header\",\"true\") \\\n",
        "                .option(\"multiline\",\"True\") \\\n",
        "                .json(\"/content/drive/MyDrive/Colab Notebooks/data/BEAD_Rebu_TaxiCabs.json\")\n",
        "df.show()\n",
        "df.printSchema()\n",
        "\n"
      ],
      "metadata": {
        "id": "t4-4ynFsQqdb"
      },
      "execution_count": null,
      "outputs": []
    },
    {
      "cell_type": "code",
      "source": [
        "df.sort('TaxiNumber').show()"
      ],
      "metadata": {
        "id": "y-ggJClyorYj"
      },
      "execution_count": null,
      "outputs": []
    },
    {
      "cell_type": "markdown",
      "source": [
        "df.sort('TaxiNumber').show()"
      ],
      "metadata": {
        "id": "zIOh7skTp8ZU"
      }
    },
    {
      "cell_type": "code",
      "source": [
        "df.where(\"TaxiType = 'Premier' AND TaxiPassengerCapacity= 4\").show()"
      ],
      "metadata": {
        "id": "o9pHsJqypVpc"
      },
      "execution_count": null,
      "outputs": []
    },
    {
      "cell_type": "markdown",
      "source": [
        "Retrieve all 4 seaters Premier Taxi"
      ],
      "metadata": {
        "id": "YoGrqvBDsZ_m"
      }
    },
    {
      "cell_type": "code",
      "source": [
        "df.select('TaxiNumber', 'TaxiType', 'TaxiColor').where(\"TaxiType = 'Premier'\").show()"
      ],
      "metadata": {
        "id": "BQTkA25IsZoQ"
      },
      "execution_count": null,
      "outputs": []
    },
    {
      "cell_type": "markdown",
      "source": [
        "# Read Trip DATA CSV"
      ],
      "metadata": {
        "id": "A1ahckMutg3D"
      }
    },
    {
      "cell_type": "code",
      "source": [
        "# Read CSV file people.csv\n",
        "trips = spark.read.format('csv') \\\n",
        "                .option(\"inferSchema\",\"true\") \\\n",
        "                .option(\"header\",\"true\") \\\n",
        "                .load(\"/content/drive/MyDrive/Colab Notebooks/data/BEAD_Rebu_TripData.csv\")\n",
        "\n",
        "# Show result\n",
        "df.show()"
      ],
      "metadata": {
        "colab": {
          "base_uri": "https://localhost:8080/"
        },
        "id": "YqS-UXKt1ShG",
        "outputId": "fc6804bf-5a66-4e45-cf79-f72bdb05e98d"
      },
      "execution_count": 24,
      "outputs": [
        {
          "output_type": "stream",
          "name": "stdout",
          "text": [
            "+---+--------+---+-----------+--------------------+-----------------+-----------------+------------------+------------------------+-------------------+-----------+---------+-------------+--------------------+---------+------------+--------------+\n",
            "|Sno|    Date|Day|Hour of Day|Trip Start Time HHMM|  Pickup District| DropOff District|Distance Travelled|Trip Duration in Seconds|      Trip End Time|Taxi Number|Taxi Type|Taxi Capacity|Number Of Passengers|Trip Fare|Passenger ID|Passenger Name|\n",
            "+---+--------+---+-----------+--------------------+-----------------+-----------------+------------------+------------------------+-------------------+-----------+---------+-------------+--------------------+---------+------------+--------------+\n",
            "|  1|1-Jan-24|Mon|          0| 2024-07-20 00:01:00|        Kew Drive|         Clementi|              25.1|                    3001|2024-07-20 01:50:00|    SHY6685| Standard|            4|                   2|    49.91|       11841|     Ellen Han|\n",
            "|  2|1-Jan-24|Mon|          0| 2024-07-20 00:01:00|           Marina|    Clementi Park|              12.8|                    1671|2024-07-20 00:29:00|    SHY1488| Mini Cab|            3|                   3|    28.17|       10126|  Matthew Feng|\n",
            "|  3|1-Jan-24|Mon|          0| 2024-07-20 00:02:00|           Bishan|      Hume Avenue|              19.8|                    3332|2024-07-20 01:57:00|    SHX0354| Standard|            4|                   1|    44.67|       11259|      Agnes Bi|\n",
            "|  4|1-Jan-24|Mon|          0| 2024-07-20 00:05:00|      Suntec City| Upper East Coast|              16.8|                    2904|2024-07-20 01:52:00|    SHZ0338| Mini Cab|            3|                   1|    37.54|       10710|   Harry Huang|\n",
            "|  5|1-Jan-24|Mon|          0| 2024-07-20 00:06:00|        Chinatown|          Geylang|              17.6|                    2413|2024-07-20 01:45:00|    SHY5827| Mini Cab|            4|                   3|    34.62|       11250|  Frederick Ke|\n",
            "|  6|1-Jan-24|Mon|          0| 2024-07-20 00:08:00|   Admiralty Road|      High Street|              13.6|                    1812|2024-07-20 01:37:00|    SHX4463|  Premier|            4|                   4|    28.71|       12313|    George Guo|\n",
            "|  7|1-Jan-24|Mon|          0| 2024-07-20 00:08:00|       Macpherson|   Admiralty Road|               2.3|                     507|2024-07-20 00:16:00|    SHX7806| Maxi Cab|            7|                   7|     8.11|       11347|     Ethel Man|\n",
            "|  8|1-Jan-24|Mon|          0| 2024-07-20 00:09:00|      Middle Road|Orchard Boulevard|               4.9|                     845|2024-07-20 00:23:00|    SHY1409| Standard|            4|                   1|    12.43|       11178|   Judith Gong|\n",
            "|  9|1-Jan-24|Mon|          0| 2024-07-20 00:09:00|       East Coast|         Hillview|              29.5|                    3740|2024-07-20 01:10:00|    SHX7554| Standard|            4|                   2|    55.69|       11554|     Ruby Ling|\n",
            "| 10|1-Jan-24|Mon|          0| 2024-07-20 00:09:00|North Bridge Road|      Middle Road|               2.1|                     489|2024-07-20 00:17:00|    SHY6024| Standard|            4|                   1|     7.74|       12225|     Derek Cha|\n",
            "| 11|1-Jan-24|Mon|          0| 2024-07-20 00:09:00|        Pasir Ris|          Seletar|               9.9|                    1097|2024-07-20 00:28:00|    SHX2773| Standard|            4|                   1|    24.69|       10667|   Kelly Chang|\n",
            "| 12|1-Jan-24|Mon|          0| 2024-07-20 00:10:00|            Bedok|           Marina|              18.0|                    2739|2024-07-20 01:55:00|    SHY0615| Standard|            4|                   3|    42.85|       10937|    Iris Zhang|\n",
            "| 13|1-Jan-24|Mon|          0| 2024-07-20 00:10:00|   Admiralty Road|       Queenstown|               8.7|                    1332|2024-07-20 01:32:00|    SHY7111| Standard|            4|                   1|    20.52|       10578|     Jane Heng|\n",
            "| 14|1-Jan-24|Mon|          0| 2024-07-20 00:11:00|      Paya Lebar |    Clementi Park|              22.3|                    3267|2024-07-20 01:05:00|    SHY9805| Mini Cab|            3|                   2|     43.0|       10501|     Alan Weng|\n",
            "| 15|1-Jan-24|Mon|          0| 2024-07-20 00:12:00|     Harbourfront|    Sungei Gedong|              19.3|                    2668|2024-07-20 01:56:00|    SHX7757| Maxi Cab|            6|                   3|    38.23|       10146|  Sai Merchant|\n",
            "| 16|1-Jan-24|Mon|          0| 2024-07-20 00:12:00|          Seletar|           Keppel|               5.2|                     957|2024-07-20 00:28:00|    SHY4520|  Premier|            4|                   2|    14.47|       12074|    Melissa Wu|\n",
            "| 17|1-Jan-24|Mon|          0| 2024-07-20 00:14:00|      Shenton Way|      Bouna Vista|               5.9|                     942|2024-07-20 00:29:00|    SHY9111| Standard|            4|                   4|    14.53|       11260|     Louis Tai|\n",
            "| 18|1-Jan-24|Mon|          0| 2024-07-20 00:14:00|      Tanjong Rhu|           Jurong|              25.9|                    3261|2024-07-20 01:08:00|    SHZ9323| Maxi Cab|            7|                   6|    54.62|       12139|     Sydney Ke|\n",
            "| 19|1-Jan-24|Mon|          0| 2024-07-20 00:16:00|             Sims|           Katong|               3.4|                     583|2024-07-20 00:26:00|    SHZ6559| Mini Cab|            4|                   2|    10.04|       11583|   Parin Dubey|\n",
            "| 20|1-Jan-24|Mon|          0| 2024-07-20 00:22:00| Upper East Coast|           Yishun|               5.6|                     902|2024-07-20 01:36:00|    SHX9762| Standard|            4|                   4|    15.29|       10885|   Rosina Teng|\n",
            "+---+--------+---+-----------+--------------------+-----------------+-----------------+------------------+------------------------+-------------------+-----------+---------+-------------+--------------------+---------+------------+--------------+\n",
            "only showing top 20 rows\n",
            "\n"
          ]
        }
      ]
    },
    {
      "cell_type": "markdown",
      "source": [
        "Average distance per trip in January 2024"
      ],
      "metadata": {
        "id": "4WmKnhAU12tS"
      }
    },
    {
      "cell_type": "code",
      "source": [
        "from pyspark.sql.functions import *\n",
        "\n",
        "df.agg(avg(\"Distance Travelled\")).first()[0]"
      ],
      "metadata": {
        "colab": {
          "base_uri": "https://localhost:8080/"
        },
        "id": "qwkJUb832pFp",
        "outputId": "84881eaf-9edf-418e-9116-4b342ee36db8"
      },
      "execution_count": 8,
      "outputs": [
        {
          "output_type": "execute_result",
          "data": {
            "text/plain": [
              "11.90267497177833"
            ]
          },
          "metadata": {},
          "execution_count": 8
        }
      ]
    },
    {
      "cell_type": "markdown",
      "source": [
        "Total Fare collected by taxi type"
      ],
      "metadata": {
        "id": "iPwEMXw_4FhR"
      }
    },
    {
      "cell_type": "code",
      "source": [
        "df.groupBy('Taxi Type').sum(\"Trip Fare\").where(df['Taxi Type'] == 'Maxi Cab').first()[1]"
      ],
      "metadata": {
        "colab": {
          "base_uri": "https://localhost:8080/"
        },
        "id": "mnazBgSd4OhM",
        "outputId": "264bf43e-22de-4de9-b5ca-720c9278cb87"
      },
      "execution_count": 59,
      "outputs": [
        {
          "output_type": "execute_result",
          "data": {
            "text/plain": [
              "124899.2199999994"
            ]
          },
          "metadata": {},
          "execution_count": 59
        }
      ]
    },
    {
      "cell_type": "markdown",
      "source": [
        "Average Occupancies (no of passenger/passenger capacity) for standtaxi"
      ],
      "metadata": {
        "id": "6KZlEgwL9kHq"
      }
    },
    {
      "cell_type": "code",
      "source": [
        "df.where(df['Taxi Type'] == 'Standard').agg(avg(df['Number Of Passengers']/df['Taxi Capacity'])).first()[0]"
      ],
      "metadata": {
        "colab": {
          "base_uri": "https://localhost:8080/"
        },
        "id": "EaKwuCh_7R26",
        "outputId": "5995c25d-f187-4975-f70c-aff231cd2e54"
      },
      "execution_count": 66,
      "outputs": [
        {
          "output_type": "execute_result",
          "data": {
            "text/plain": [
              "0.5380241501943595"
            ]
          },
          "metadata": {},
          "execution_count": 66
        }
      ]
    },
    {
      "cell_type": "markdown",
      "source": [
        "Fare collected by day of week from Mon to Sunday"
      ],
      "metadata": {
        "id": "lej4LT-K-mhy"
      }
    },
    {
      "cell_type": "code",
      "source": [
        "df.cube('Day','Hour of Day').sum('Trip Fare').sort('Day').show()"
      ],
      "metadata": {
        "colab": {
          "base_uri": "https://localhost:8080/"
        },
        "id": "m_CWyyNp-sT4",
        "outputId": "54c07356-8adf-4984-f6b3-5d92d546916c"
      },
      "execution_count": 75,
      "outputs": [
        {
          "output_type": "stream",
          "name": "stdout",
          "text": [
            "+----+-----------+------------------+\n",
            "| Day|Hour of Day|    sum(Trip Fare)|\n",
            "+----+-----------+------------------+\n",
            "|NULL|         16| 35219.11999999999|\n",
            "|NULL|         15| 26466.63000000004|\n",
            "|NULL|         12| 27622.38999999998|\n",
            "|NULL|         21|  69611.3300000002|\n",
            "|NULL|          6| 53495.05000000001|\n",
            "|NULL|          7| 98835.91999999977|\n",
            "|NULL|         11|26267.180000000004|\n",
            "|NULL|          0|          14407.94|\n",
            "|NULL|          4| 27207.75000000001|\n",
            "|NULL|         23| 27986.88000000001|\n",
            "|NULL|          2| 27876.15000000002|\n",
            "|NULL|         17| 62625.73000000003|\n",
            "|NULL|          9| 88342.87999999982|\n",
            "|NULL|          8|115967.63000000008|\n",
            "|NULL|       NULL|1178257.5900000082|\n",
            "|NULL|          3|28214.950000000033|\n",
            "|NULL|         10| 45799.61000000005|\n",
            "|NULL|         14|25106.230000000003|\n",
            "|NULL|         18|  81033.4800000002|\n",
            "|NULL|         13|27023.370000000014|\n",
            "+----+-----------+------------------+\n",
            "only showing top 20 rows\n",
            "\n"
          ]
        }
      ]
    },
    {
      "cell_type": "markdown",
      "source": [
        "Compare total number of trips made by all taxis in weekend vs total"
      ],
      "metadata": {
        "id": "b2uGt9XuBc-E"
      }
    },
    {
      "cell_type": "code",
      "source": [],
      "metadata": {
        "id": "rKOdnGPCjCgg"
      },
      "execution_count": null,
      "outputs": []
    },
    {
      "cell_type": "code",
      "source": [
        "\n",
        "\n",
        "weekdayFare = df.where(\"DAY not in ('Sat', 'Sun')\").agg(sum('Trip Fare')).first()[0]\n",
        "print(f\"weekday fare collected ${weekdayFare}\")\n",
        "\n",
        "weekendFare= df.where(\"DAY in ('Sat', 'Sun')\").agg(sum('Trip Fare')).first()[0]\n",
        "print(f\"weekend fare collected ${weekendFare}\")\n",
        "\n",
        "print(f\"Difference: , {weekdayFare - weekendFare}\")"
      ],
      "metadata": {
        "colab": {
          "base_uri": "https://localhost:8080/"
        },
        "id": "lb2ittOHBofZ",
        "outputId": "f0ed1082-9c43-405e-9d06-3b42f85a82a3"
      },
      "execution_count": 20,
      "outputs": [
        {
          "output_type": "stream",
          "name": "stdout",
          "text": [
            "weekday fare collected $959439.0700000038\n",
            "weekend fare collected $218818.52000000043\n",
            "Difference: ,  740620.55\n"
          ]
        }
      ]
    },
    {
      "cell_type": "markdown",
      "source": [
        "Import Passenger Data"
      ],
      "metadata": {
        "id": "26I1u-e-pifd"
      }
    },
    {
      "cell_type": "code",
      "source": [
        "# Read CSV file people.csv\n",
        "passenger = spark.read.format('csv') \\\n",
        "                .option(\"inferSchema\",\"true\") \\\n",
        "                .option(\"header\",\"true\") \\\n",
        "                .load(\"/content/drive/MyDrive/Colab Notebooks/data/BEAD_Rebu_Passengers.csv\")\n",
        "\n",
        "# Show result\n",
        "df.show()"
      ],
      "metadata": {
        "colab": {
          "base_uri": "https://localhost:8080/"
        },
        "id": "9yyfOjONpoFm",
        "outputId": "e36855b5-3e8e-499f-9168-7fc2f83101e8"
      },
      "execution_count": 23,
      "outputs": [
        {
          "output_type": "stream",
          "name": "stdout",
          "text": [
            "+---+--------+---+-----------+--------------------+-----------------+-----------------+------------------+------------------------+-------------------+-----------+---------+-------------+--------------------+---------+------------+--------------+\n",
            "|Sno|    Date|Day|Hour of Day|Trip Start Time HHMM|  Pickup District| DropOff District|Distance Travelled|Trip Duration in Seconds|      Trip End Time|Taxi Number|Taxi Type|Taxi Capacity|Number Of Passengers|Trip Fare|Passenger ID|Passenger Name|\n",
            "+---+--------+---+-----------+--------------------+-----------------+-----------------+------------------+------------------------+-------------------+-----------+---------+-------------+--------------------+---------+------------+--------------+\n",
            "|  1|1-Jan-24|Mon|          0| 2024-07-20 00:01:00|        Kew Drive|         Clementi|              25.1|                    3001|2024-07-20 01:50:00|    SHY6685| Standard|            4|                   2|    49.91|       11841|     Ellen Han|\n",
            "|  2|1-Jan-24|Mon|          0| 2024-07-20 00:01:00|           Marina|    Clementi Park|              12.8|                    1671|2024-07-20 00:29:00|    SHY1488| Mini Cab|            3|                   3|    28.17|       10126|  Matthew Feng|\n",
            "|  3|1-Jan-24|Mon|          0| 2024-07-20 00:02:00|           Bishan|      Hume Avenue|              19.8|                    3332|2024-07-20 01:57:00|    SHX0354| Standard|            4|                   1|    44.67|       11259|      Agnes Bi|\n",
            "|  4|1-Jan-24|Mon|          0| 2024-07-20 00:05:00|      Suntec City| Upper East Coast|              16.8|                    2904|2024-07-20 01:52:00|    SHZ0338| Mini Cab|            3|                   1|    37.54|       10710|   Harry Huang|\n",
            "|  5|1-Jan-24|Mon|          0| 2024-07-20 00:06:00|        Chinatown|          Geylang|              17.6|                    2413|2024-07-20 01:45:00|    SHY5827| Mini Cab|            4|                   3|    34.62|       11250|  Frederick Ke|\n",
            "|  6|1-Jan-24|Mon|          0| 2024-07-20 00:08:00|   Admiralty Road|      High Street|              13.6|                    1812|2024-07-20 01:37:00|    SHX4463|  Premier|            4|                   4|    28.71|       12313|    George Guo|\n",
            "|  7|1-Jan-24|Mon|          0| 2024-07-20 00:08:00|       Macpherson|   Admiralty Road|               2.3|                     507|2024-07-20 00:16:00|    SHX7806| Maxi Cab|            7|                   7|     8.11|       11347|     Ethel Man|\n",
            "|  8|1-Jan-24|Mon|          0| 2024-07-20 00:09:00|      Middle Road|Orchard Boulevard|               4.9|                     845|2024-07-20 00:23:00|    SHY1409| Standard|            4|                   1|    12.43|       11178|   Judith Gong|\n",
            "|  9|1-Jan-24|Mon|          0| 2024-07-20 00:09:00|       East Coast|         Hillview|              29.5|                    3740|2024-07-20 01:10:00|    SHX7554| Standard|            4|                   2|    55.69|       11554|     Ruby Ling|\n",
            "| 10|1-Jan-24|Mon|          0| 2024-07-20 00:09:00|North Bridge Road|      Middle Road|               2.1|                     489|2024-07-20 00:17:00|    SHY6024| Standard|            4|                   1|     7.74|       12225|     Derek Cha|\n",
            "| 11|1-Jan-24|Mon|          0| 2024-07-20 00:09:00|        Pasir Ris|          Seletar|               9.9|                    1097|2024-07-20 00:28:00|    SHX2773| Standard|            4|                   1|    24.69|       10667|   Kelly Chang|\n",
            "| 12|1-Jan-24|Mon|          0| 2024-07-20 00:10:00|            Bedok|           Marina|              18.0|                    2739|2024-07-20 01:55:00|    SHY0615| Standard|            4|                   3|    42.85|       10937|    Iris Zhang|\n",
            "| 13|1-Jan-24|Mon|          0| 2024-07-20 00:10:00|   Admiralty Road|       Queenstown|               8.7|                    1332|2024-07-20 01:32:00|    SHY7111| Standard|            4|                   1|    20.52|       10578|     Jane Heng|\n",
            "| 14|1-Jan-24|Mon|          0| 2024-07-20 00:11:00|      Paya Lebar |    Clementi Park|              22.3|                    3267|2024-07-20 01:05:00|    SHY9805| Mini Cab|            3|                   2|     43.0|       10501|     Alan Weng|\n",
            "| 15|1-Jan-24|Mon|          0| 2024-07-20 00:12:00|     Harbourfront|    Sungei Gedong|              19.3|                    2668|2024-07-20 01:56:00|    SHX7757| Maxi Cab|            6|                   3|    38.23|       10146|  Sai Merchant|\n",
            "| 16|1-Jan-24|Mon|          0| 2024-07-20 00:12:00|          Seletar|           Keppel|               5.2|                     957|2024-07-20 00:28:00|    SHY4520|  Premier|            4|                   2|    14.47|       12074|    Melissa Wu|\n",
            "| 17|1-Jan-24|Mon|          0| 2024-07-20 00:14:00|      Shenton Way|      Bouna Vista|               5.9|                     942|2024-07-20 00:29:00|    SHY9111| Standard|            4|                   4|    14.53|       11260|     Louis Tai|\n",
            "| 18|1-Jan-24|Mon|          0| 2024-07-20 00:14:00|      Tanjong Rhu|           Jurong|              25.9|                    3261|2024-07-20 01:08:00|    SHZ9323| Maxi Cab|            7|                   6|    54.62|       12139|     Sydney Ke|\n",
            "| 19|1-Jan-24|Mon|          0| 2024-07-20 00:16:00|             Sims|           Katong|               3.4|                     583|2024-07-20 00:26:00|    SHZ6559| Mini Cab|            4|                   2|    10.04|       11583|   Parin Dubey|\n",
            "| 20|1-Jan-24|Mon|          0| 2024-07-20 00:22:00| Upper East Coast|           Yishun|               5.6|                     902|2024-07-20 01:36:00|    SHX9762| Standard|            4|                   4|    15.29|       10885|   Rosina Teng|\n",
            "+---+--------+---+-----------+--------------------+-----------------+-----------------+------------------+------------------------+-------------------+-----------+---------+-------------+--------------------+---------+------------+--------------+\n",
            "only showing top 20 rows\n",
            "\n"
          ]
        }
      ]
    },
    {
      "cell_type": "markdown",
      "source": [
        "Total fares paid by gold status"
      ],
      "metadata": {
        "id": "qzQBgtK7qhKu"
      }
    },
    {
      "cell_type": "code",
      "source": [
        "#Join tables\n",
        "\n",
        "goldPassengers = (passenger.where(\"MemSilvererStGoldtus = 'Gold'\")\n",
        "  .join(trips, passenger.PassengerID == trips[\"Passenger ID\"])\n",
        "  .agg(sum(\"Trip Fare\"))\n",
        "  .first()[0]\n",
        ")\n",
        "\n",
        "Total = (trips.agg(sum(\"Trip Fare\"))\n",
        "  .first()[0]\n",
        ")\n",
        "\n",
        "print(f\"% of fares from Gold passenger {goldPassengers/Total * 100}\")"
      ],
      "metadata": {
        "colab": {
          "base_uri": "https://localhost:8080/"
        },
        "id": "g6_6PbzbqE6V",
        "outputId": "79da3eb2-59ee-41a2-8e24-693c99201907"
      },
      "execution_count": 36,
      "outputs": [
        {
          "output_type": "stream",
          "name": "stdout",
          "text": [
            "% of fares from Gold passenger 27.735394431025718\n"
          ]
        }
      ]
    }
  ]
}