{
  "nbformat": 4,
  "nbformat_minor": 0,
  "metadata": {
    "colab": {
      "provenance": [],
      "authorship_tag": "ABX9TyMyF7ZlgF3wUa6y1htgy3wM",
      "include_colab_link": true
    },
    "kernelspec": {
      "name": "python3",
      "display_name": "Python 3"
    },
    "language_info": {
      "name": "python"
    }
  },
  "cells": [
    {
      "cell_type": "markdown",
      "metadata": {
        "id": "view-in-github",
        "colab_type": "text"
      },
      "source": [
        "<a href=\"https://colab.research.google.com/github/linxiaoxin/DataEngineering/blob/main/Workshop_10.ipynb\" target=\"_parent\"><img src=\"https://colab.research.google.com/assets/colab-badge.svg\" alt=\"Open In Colab\"/></a>"
      ]
    },
    {
      "cell_type": "markdown",
      "source": [
        "**WORKSHOP 10 **"
      ],
      "metadata": {
        "id": "EaV5puA04CVE"
      }
    },
    {
      "cell_type": "markdown",
      "source": [
        "1a. What is 8 to the power of 4"
      ],
      "metadata": {
        "id": "rGDtrFMR4KjW"
      }
    },
    {
      "cell_type": "code",
      "source": [
        "print(pow(8, 4))"
      ],
      "metadata": {
        "colab": {
          "base_uri": "https://localhost:8080/",
          "height": 0
        },
        "id": "yPnHDU-E4IEb",
        "outputId": "3acc75d5-46bd-4921-8873-0cfc5e2128e6"
      },
      "execution_count": 1,
      "outputs": [
        {
          "output_type": "stream",
          "name": "stdout",
          "text": [
            "4096\n"
          ]
        }
      ]
    },
    {
      "cell_type": "markdown",
      "source": [
        "1b. Split the string \"Split this string\""
      ],
      "metadata": {
        "id": "d7EpVpjA5oE5"
      }
    },
    {
      "cell_type": "code",
      "execution_count": 2,
      "metadata": {
        "colab": {
          "base_uri": "https://localhost:8080/",
          "height": 0
        },
        "id": "UooQnKLZ34Bd",
        "outputId": "177b960d-62d0-4bfa-d65d-abf89aa71be9"
      },
      "outputs": [
        {
          "output_type": "execute_result",
          "data": {
            "text/plain": [
              "['Split', 'this', 'string']"
            ]
          },
          "metadata": {},
          "execution_count": 2
        }
      ],
      "source": [
        "\"Split this string\".split()"
      ]
    },
    {
      "cell_type": "markdown",
      "source": [
        "1c. Given the variables: planet = “Earth”, diameter = 12742, use .format() to print the following\n",
        "string “The diameter of Earth is 12742 kilometers.”"
      ],
      "metadata": {
        "id": "yZssfPE46KLT"
      }
    },
    {
      "cell_type": "code",
      "source": [
        "def formatPrint(planet, diameter):\n",
        "  print(\"The diameter of {planet} is {diameter} kilometers.\".format(planet=planet, diameter=diameter))\n",
        "\n",
        "formatPrint(\"Earth\", 12742)\n"
      ],
      "metadata": {
        "colab": {
          "base_uri": "https://localhost:8080/"
        },
        "id": "d4iPgyDi6Su3",
        "outputId": "beb8ab77-a3db-45fd-8ed3-62858c85a262"
      },
      "execution_count": 4,
      "outputs": [
        {
          "output_type": "stream",
          "name": "stdout",
          "text": [
            "The diameter of Earth is 12742 kilometers.\n"
          ]
        }
      ]
    },
    {
      "cell_type": "markdown",
      "source": [
        "1d. Given the name list, use indexing to grab word “target”, the_list =\n",
        "[1,2,[3,4],[5,[100,200,['target']],23,11],1,7]"
      ],
      "metadata": {
        "id": "xVUUcXZF8I7e"
      }
    },
    {
      "cell_type": "code",
      "source": [
        "mylist = [1,2,[3,4],[5,[100,200,['target']],23,11],1,7]\n",
        "\n",
        "print(mylist[3][1][2][0])"
      ],
      "metadata": {
        "colab": {
          "base_uri": "https://localhost:8080/"
        },
        "id": "XYsw1ovd8MD_",
        "outputId": "7e4c4694-0bd4-4f39-900a-829f2317e1fa"
      },
      "execution_count": 10,
      "outputs": [
        {
          "output_type": "stream",
          "name": "stdout",
          "text": [
            "target\n"
          ]
        }
      ]
    },
    {
      "cell_type": "markdown",
      "source": [
        "1e. Given this nest dictionary grab the work “hello”. The_dic =\n",
        "{'k1':[1,2,3,{'tricky':['oh','man','inception',{'target':[1,2,3,'hello']}]}]}\n"
      ],
      "metadata": {
        "id": "GnqCJwpB9SwK"
      }
    },
    {
      "cell_type": "code",
      "source": [
        "the_dic = {'k1':[1,2,3,{'tricky':['oh','man','inception',{'target':[1,2,3,'hello']}]}]}\n",
        "the_dic['k1'][3]['tricky'][3]['target'][3]"
      ],
      "metadata": {
        "colab": {
          "base_uri": "https://localhost:8080/",
          "height": 35
        },
        "id": "v5FE4O_n9V2a",
        "outputId": "95ee889e-cf97-4438-d4f2-7c3da96d5570"
      },
      "execution_count": 17,
      "outputs": [
        {
          "output_type": "execute_result",
          "data": {
            "text/plain": [
              "'hello'"
            ],
            "application/vnd.google.colaboratory.intrinsic+json": {
              "type": "string"
            }
          },
          "metadata": {},
          "execution_count": 17
        }
      ]
    },
    {
      "cell_type": "markdown",
      "source": [
        "1f. Create a basic function that returns True if the word 'elephant' is contained in the input string.\n",
        "Don't worry about edge cases like a punctuation being attached to the word dog, but do\n",
        "account for capitalization."
      ],
      "metadata": {
        "id": "u9bXWyBb9zaN"
      }
    },
    {
      "cell_type": "code",
      "source": [
        "def containsElephant(statement):\n",
        "  return statement.find('elephant') >=0\n",
        "\n",
        "print(containsElephant('There is an elephant in my room'))\n",
        "print(containsElephant('There is an Elephant in my room'))\n",
        "print(containsElephant('There are elephants in my room'))\n",
        "print(containsElephant('There are ants in my room'))\n"
      ],
      "metadata": {
        "colab": {
          "base_uri": "https://localhost:8080/"
        },
        "id": "sycgzaWO90ye",
        "outputId": "35b3967b-f3af-4504-a432-96b66cb69ae4"
      },
      "execution_count": 21,
      "outputs": [
        {
          "output_type": "stream",
          "name": "stdout",
          "text": [
            "True\n",
            "False\n",
            "True\n",
            "False\n"
          ]
        }
      ]
    },
    {
      "cell_type": "markdown",
      "source": [
        "1g. Create a function that counts the number of times the word \"elephant\" occurs in a string.\n",
        "Again ignore edge cases\n",
        "\n"
      ],
      "metadata": {
        "id": "MC2jXqHi_G_o"
      }
    },
    {
      "cell_type": "code",
      "source": [
        "def countEleplant(statement):\n",
        "  return statement.count('elephant')\n",
        "\n",
        "print(countEleplant('There is an elephant in my room. The elephant is sleeping'))\n",
        "print(countEleplant('There is an Elephant in my room'))\n",
        "print(countEleplant('There are elephants in my room. They are sleeping'))\n",
        "print(countEleplant('There are ants in my room'))"
      ],
      "metadata": {
        "colab": {
          "base_uri": "https://localhost:8080/"
        },
        "id": "uM18_G5K_JSe",
        "outputId": "cd58e8d3-e463-4683-bb00-e38fa4b09a19"
      },
      "execution_count": 26,
      "outputs": [
        {
          "output_type": "stream",
          "name": "stdout",
          "text": [
            "2\n",
            "0\n",
            "1\n",
            "0\n"
          ]
        }
      ]
    },
    {
      "cell_type": "markdown",
      "source": [
        "1h. Write a function to return one of 3 possible results: \"Low speed\", \"Medium speed\", or \"Fast\n",
        "speed\". If your speed is 60 or less, the result is \"Low speed\". If speed is between 61 and 80\n",
        "inclusive, the result is \"Medium speed\". If speed is 81 or more, the result is \"Fast speed\".\n",
        "Unless it is your birthday (encoded as a boolean value in the parameters of the function) -- on\n",
        "your birthday, your speed can be 5 higher in all cases."
      ],
      "metadata": {
        "id": "NbWvl4cG_ssU"
      }
    },
    {
      "cell_type": "code",
      "source": [
        "def classifySpeed(speed, isBirthday):\n",
        "\n",
        "  if speed >= 81 + (isBirthday * 5):\n",
        "    return \"Fast speed\"\n",
        "  if speed >= (61 + (isBirthday * 5)):\n",
        "    return \"Medium speed\"\n",
        "\n",
        "  return \"Low speed\"\n",
        "\n",
        "print(classifySpeed(81, False))\n",
        "print(classifySpeed(80, False))\n",
        "print(classifySpeed(81, True))\n",
        "print(classifySpeed(86, True))\n",
        "print(classifySpeed(85, True))\n",
        "\n",
        "print(classifySpeed(61, False))\n",
        "print(classifySpeed(60, False))\n",
        "print(classifySpeed(61, True))\n",
        "print(classifySpeed(66, True))\n",
        "print(classifySpeed(65, True))\n"
      ],
      "metadata": {
        "colab": {
          "base_uri": "https://localhost:8080/"
        },
        "id": "7LZwlvVq_t3N",
        "outputId": "6343d70f-2b7c-4c56-8f6c-6175d68cc8f8"
      },
      "execution_count": 36,
      "outputs": [
        {
          "output_type": "stream",
          "name": "stdout",
          "text": [
            "Fast speed\n",
            "Medium speed\n",
            "Medium speed\n",
            "Fast speed\n",
            "Medium speed\n",
            "Medium speed\n",
            "Low speed\n",
            "Low speed\n",
            "Medium speed\n",
            "Low speed\n"
          ]
        }
      ]
    },
    {
      "cell_type": "markdown",
      "source": [
        "**PySpark operations on DataFrame**\n",
        "\n",
        "2a. Create a PySpark DataFrame based on the given RDD"
      ],
      "metadata": {
        "id": "qrUqT9cRCXWV"
      }
    },
    {
      "cell_type": "code",
      "source": [
        "# install pyspark using pip\n",
        "!pip install --ignore-install -q pyspark\n",
        "# install findspark using pip\n",
        "!pip install --ignore-install -q findspark"
      ],
      "metadata": {
        "colab": {
          "base_uri": "https://localhost:8080/"
        },
        "id": "09yDVA6xD49I",
        "outputId": "6ed2a059-b8a5-429a-b22e-081bf5f88e56"
      },
      "execution_count": 43,
      "outputs": [
        {
          "output_type": "stream",
          "name": "stdout",
          "text": [
            "\u001b[2K     \u001b[90m━━━━━━━━━━━━━━━━━━━━━━━━━━━━━━━━━━━━━━━━\u001b[0m \u001b[32m317.0/317.0 MB\u001b[0m \u001b[31m1.2 MB/s\u001b[0m eta \u001b[36m0:00:00\u001b[0m\n",
            "\u001b[?25h  Preparing metadata (setup.py) ... \u001b[?25l\u001b[?25hdone\n",
            "\u001b[2K   \u001b[90m━━━━━━━━━━━━━━━━━━━━━━━━━━━━━━━━━━━━━━━━\u001b[0m \u001b[32m200.5/200.5 kB\u001b[0m \u001b[31m3.6 MB/s\u001b[0m eta \u001b[36m0:00:00\u001b[0m\n",
            "\u001b[?25h  Building wheel for pyspark (setup.py) ... \u001b[?25l\u001b[?25hdone\n"
          ]
        }
      ]
    },
    {
      "cell_type": "code",
      "source": [
        "from pyspark.sql import SparkSession\n",
        "import collections\n",
        "spark = SparkSession.builder.master(\"local\").appName(\"ws10\").config('spark.ui.port', '4050').getOrCreate()"
      ],
      "metadata": {
        "id": "_aBln13UEDeD"
      },
      "execution_count": 44,
      "outputs": []
    },
    {
      "cell_type": "code",
      "source": [
        "sc = spark.sparkContext\n",
        "\n",
        "Data = [(\"James\",\"Sales\",\"SG\",70000,34,10000),\n",
        "(\"Michael\",\"Sales\",\"SG\",66000,56,20000),\n",
        "(\"Robert\",\"Sales\",\"MY\",61000,30,23000),\n",
        "(\"Maria\",\"Finance\",\"MY\",60000,24,23000),\n",
        "(\"Raman\",\"Finance\",\"USA\",79000,40,24000),\n",
        "(\"Scott\",\"Finance\",\"USA\",63000,36,19000),\n",
        "(\"Jen\",\"Finance\",\"UK\",89000,53,15000),\n",
        "(\"Jeff\",\"Marketing\",\"UK\",70000,25,18000),\n",
        "(\"Alice\",\"Marketing\",\"UK\",78000,50,21000),\n",
        "(\"Ada\",\"IT\",\"SG\",83000,35,11000),\n",
        "(\"Jackson\",\"IT\",\"MY\",71000,30,21000),\n",
        "(\"Cooper\",\"IT\",\"UK\",91000,40,21000)]\n",
        "\n",
        "#define column names\n",
        "rdd = sc.parallelize(Data)\n",
        "\n",
        "columns = ['employee_name', 'department', 'country', 'salary', 'age', 'bonus']\n",
        "employees = spark.createDataFrame(rdd, columns)\n",
        "\n",
        "employees.show()\n"
      ],
      "metadata": {
        "colab": {
          "base_uri": "https://localhost:8080/"
        },
        "id": "s_s1eRpuCjYC",
        "outputId": "8b8e2e8f-fe6f-4b1a-88a2-e0710dbad9ee"
      },
      "execution_count": 47,
      "outputs": [
        {
          "output_type": "stream",
          "name": "stdout",
          "text": [
            "+-------------+----------+-------+------+---+-----+\n",
            "|employee_name|department|country|salary|age|bonus|\n",
            "+-------------+----------+-------+------+---+-----+\n",
            "|        James|     Sales|     SG| 70000| 34|10000|\n",
            "|      Michael|     Sales|     SG| 66000| 56|20000|\n",
            "|       Robert|     Sales|     MY| 61000| 30|23000|\n",
            "|        Maria|   Finance|     MY| 60000| 24|23000|\n",
            "|        Raman|   Finance|    USA| 79000| 40|24000|\n",
            "|        Scott|   Finance|    USA| 63000| 36|19000|\n",
            "|          Jen|   Finance|     UK| 89000| 53|15000|\n",
            "|         Jeff| Marketing|     UK| 70000| 25|18000|\n",
            "|        Alice| Marketing|     UK| 78000| 50|21000|\n",
            "|          Ada|        IT|     SG| 83000| 35|11000|\n",
            "|      Jackson|        IT|     MY| 71000| 30|21000|\n",
            "|       Cooper|        IT|     UK| 91000| 40|21000|\n",
            "+-------------+----------+-------+------+---+-----+\n",
            "\n"
          ]
        }
      ]
    },
    {
      "cell_type": "markdown",
      "source": [
        "2b. Show data and print schema"
      ],
      "metadata": {
        "id": "_KVH4ZOYCsrO"
      }
    },
    {
      "cell_type": "code",
      "source": [
        "employees.show()\n",
        "employees.printSchema()\n"
      ],
      "metadata": {
        "colab": {
          "base_uri": "https://localhost:8080/"
        },
        "id": "pt5yBvogCvMn",
        "outputId": "f1e2ea04-07a5-45cb-b1b5-6445e740061c"
      },
      "execution_count": 49,
      "outputs": [
        {
          "output_type": "stream",
          "name": "stdout",
          "text": [
            "+-------------+----------+-------+------+---+-----+\n",
            "|employee_name|department|country|salary|age|bonus|\n",
            "+-------------+----------+-------+------+---+-----+\n",
            "|        James|     Sales|     SG| 70000| 34|10000|\n",
            "|      Michael|     Sales|     SG| 66000| 56|20000|\n",
            "|       Robert|     Sales|     MY| 61000| 30|23000|\n",
            "|        Maria|   Finance|     MY| 60000| 24|23000|\n",
            "|        Raman|   Finance|    USA| 79000| 40|24000|\n",
            "|        Scott|   Finance|    USA| 63000| 36|19000|\n",
            "|          Jen|   Finance|     UK| 89000| 53|15000|\n",
            "|         Jeff| Marketing|     UK| 70000| 25|18000|\n",
            "|        Alice| Marketing|     UK| 78000| 50|21000|\n",
            "|          Ada|        IT|     SG| 83000| 35|11000|\n",
            "|      Jackson|        IT|     MY| 71000| 30|21000|\n",
            "|       Cooper|        IT|     UK| 91000| 40|21000|\n",
            "+-------------+----------+-------+------+---+-----+\n",
            "\n",
            "root\n",
            " |-- employee_name: string (nullable = true)\n",
            " |-- department: string (nullable = true)\n",
            " |-- country: string (nullable = true)\n",
            " |-- salary: long (nullable = true)\n",
            " |-- age: long (nullable = true)\n",
            " |-- bonus: long (nullable = true)\n",
            "\n"
          ]
        }
      ]
    },
    {
      "cell_type": "markdown",
      "source": [
        "2c. Run groupBy() on “department” columns. Calculate aggregates like minimum, maximum,\n",
        "average, total salary for each group using min(), max(), avg() and sum() aggregate functions\n",
        "respectively."
      ],
      "metadata": {
        "id": "w7pntAvwCvnz"
      }
    },
    {
      "cell_type": "code",
      "source": [
        "employees.select('salary', 'department').groupby('department').min().show()\n",
        "employees.select('salary', 'department').groupby('department').max().show()\n",
        "employees.select('salary', 'department').groupby('department').avg().show()\n",
        "employees.select('salary', 'department').groupby('department').sum().show()\n"
      ],
      "metadata": {
        "colab": {
          "base_uri": "https://localhost:8080/"
        },
        "id": "b-vgJda8Cyer",
        "outputId": "72b08d97-4ec4-4bdf-e6c4-bb931676a1c6"
      },
      "execution_count": 55,
      "outputs": [
        {
          "output_type": "stream",
          "name": "stdout",
          "text": [
            "+----------+-----------+\n",
            "|department|min(salary)|\n",
            "+----------+-----------+\n",
            "|     Sales|      61000|\n",
            "|   Finance|      60000|\n",
            "| Marketing|      70000|\n",
            "|        IT|      71000|\n",
            "+----------+-----------+\n",
            "\n",
            "+----------+-----------+\n",
            "|department|max(salary)|\n",
            "+----------+-----------+\n",
            "|     Sales|      70000|\n",
            "|   Finance|      89000|\n",
            "| Marketing|      78000|\n",
            "|        IT|      91000|\n",
            "+----------+-----------+\n",
            "\n",
            "+----------+-----------------+\n",
            "|department|      avg(salary)|\n",
            "+----------+-----------------+\n",
            "|     Sales|65666.66666666667|\n",
            "|   Finance|          72750.0|\n",
            "| Marketing|          74000.0|\n",
            "|        IT|81666.66666666667|\n",
            "+----------+-----------------+\n",
            "\n",
            "+----------+-----------+\n",
            "|department|sum(salary)|\n",
            "+----------+-----------+\n",
            "|     Sales|     197000|\n",
            "|   Finance|     291000|\n",
            "| Marketing|     148000|\n",
            "|        IT|     245000|\n",
            "+----------+-----------+\n",
            "\n"
          ]
        }
      ]
    },
    {
      "cell_type": "markdown",
      "source": [
        "2d. Run groupBy() on “country” columns. Calculate aggregates like minimum, maximum, average,\n",
        "total salary for each group using min(), max(), avg() and sum() aggregate functions\n",
        "respectively."
      ],
      "metadata": {
        "id": "nIcAqmAFCywx"
      }
    },
    {
      "cell_type": "code",
      "source": [
        "employees.select('salary', 'country').groupby('country').min().show()\n",
        "employees.select('salary', 'country').groupby('country').max().show()\n",
        "employees.select('salary', 'country').groupby('country').avg().show()\n",
        "employees.select('salary', 'country').groupby('country').sum().show()"
      ],
      "metadata": {
        "colab": {
          "base_uri": "https://localhost:8080/"
        },
        "id": "IcZZNePhC1QO",
        "outputId": "ee12f86c-c562-4d6c-8347-1fd68e20ae79"
      },
      "execution_count": 57,
      "outputs": [
        {
          "output_type": "stream",
          "name": "stdout",
          "text": [
            "+-------+-----------+\n",
            "|country|min(salary)|\n",
            "+-------+-----------+\n",
            "|     MY|      60000|\n",
            "|    USA|      63000|\n",
            "|     SG|      66000|\n",
            "|     UK|      70000|\n",
            "+-------+-----------+\n",
            "\n",
            "+-------+-----------+\n",
            "|country|max(salary)|\n",
            "+-------+-----------+\n",
            "|     MY|      71000|\n",
            "|    USA|      79000|\n",
            "|     SG|      83000|\n",
            "|     UK|      91000|\n",
            "+-------+-----------+\n",
            "\n",
            "+-------+-----------+\n",
            "|country|avg(salary)|\n",
            "+-------+-----------+\n",
            "|     MY|    64000.0|\n",
            "|    USA|    71000.0|\n",
            "|     SG|    73000.0|\n",
            "|     UK|    82000.0|\n",
            "+-------+-----------+\n",
            "\n",
            "+-------+-----------+\n",
            "|country|sum(salary)|\n",
            "+-------+-----------+\n",
            "|     MY|     192000|\n",
            "|    USA|     142000|\n",
            "|     SG|     219000|\n",
            "|     UK|     328000|\n",
            "+-------+-----------+\n",
            "\n"
          ]
        }
      ]
    }
  ]
}