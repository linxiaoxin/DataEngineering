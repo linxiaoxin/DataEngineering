{
  "nbformat": 4,
  "nbformat_minor": 0,
  "metadata": {
    "colab": {
      "provenance": [],
      "authorship_tag": "ABX9TyMn4AhX8FoeHh+jp0PuCg7I",
      "include_colab_link": true
    },
    "kernelspec": {
      "name": "python3",
      "display_name": "Python 3"
    },
    "language_info": {
      "name": "python"
    }
  },
  "cells": [
    {
      "cell_type": "markdown",
      "metadata": {
        "id": "view-in-github",
        "colab_type": "text"
      },
      "source": [
        "<a href=\"https://colab.research.google.com/github/linxiaoxin/DataEngineering/blob/main/Workshop_10.ipynb\" target=\"_parent\"><img src=\"https://colab.research.google.com/assets/colab-badge.svg\" alt=\"Open In Colab\"/></a>"
      ]
    },
    {
      "cell_type": "markdown",
      "source": [
        "**WORKSHOP 10 **"
      ],
      "metadata": {
        "id": "EaV5puA04CVE"
      }
    },
    {
      "cell_type": "markdown",
      "source": [
        "Import required libraries"
      ],
      "metadata": {
        "id": "NrYnB6gf41oY"
      }
    },
    {
      "cell_type": "code",
      "source": [],
      "metadata": {
        "id": "TE1-g_Nw41T9"
      },
      "execution_count": null,
      "outputs": []
    },
    {
      "cell_type": "markdown",
      "source": [
        "1a. What is 8 to the power of 4"
      ],
      "metadata": {
        "id": "rGDtrFMR4KjW"
      }
    },
    {
      "cell_type": "code",
      "source": [
        "print(pow(8, 4))"
      ],
      "metadata": {
        "colab": {
          "base_uri": "https://localhost:8080/",
          "height": 0
        },
        "id": "yPnHDU-E4IEb",
        "outputId": "3acc75d5-46bd-4921-8873-0cfc5e2128e6"
      },
      "execution_count": 1,
      "outputs": [
        {
          "output_type": "stream",
          "name": "stdout",
          "text": [
            "4096\n"
          ]
        }
      ]
    },
    {
      "cell_type": "markdown",
      "source": [
        "1b. Split the string \"Split this string\""
      ],
      "metadata": {
        "id": "d7EpVpjA5oE5"
      }
    },
    {
      "cell_type": "code",
      "execution_count": 2,
      "metadata": {
        "colab": {
          "base_uri": "https://localhost:8080/",
          "height": 0
        },
        "id": "UooQnKLZ34Bd",
        "outputId": "177b960d-62d0-4bfa-d65d-abf89aa71be9"
      },
      "outputs": [
        {
          "output_type": "execute_result",
          "data": {
            "text/plain": [
              "['Split', 'this', 'string']"
            ]
          },
          "metadata": {},
          "execution_count": 2
        }
      ],
      "source": [
        "\"Split this string\".split()"
      ]
    },
    {
      "cell_type": "markdown",
      "source": [
        "1c. Given the variables: planet = “Earth”, diameter = 12742, use .format() to print the following\n",
        "string “The diameter of Earth is 12742 kilometers.”"
      ],
      "metadata": {
        "id": "yZssfPE46KLT"
      }
    },
    {
      "cell_type": "code",
      "source": [
        "def formatPrint(planet, diameter):\n",
        "  print(\"The diameter of {planet} is {diameter} kilometers.\".format(planet=planet, diameter=diameter))\n",
        "\n",
        "formatPrint(\"Earth\", 12742)\n"
      ],
      "metadata": {
        "colab": {
          "base_uri": "https://localhost:8080/"
        },
        "id": "d4iPgyDi6Su3",
        "outputId": "beb8ab77-a3db-45fd-8ed3-62858c85a262"
      },
      "execution_count": 4,
      "outputs": [
        {
          "output_type": "stream",
          "name": "stdout",
          "text": [
            "The diameter of Earth is 12742 kilometers.\n"
          ]
        }
      ]
    },
    {
      "cell_type": "markdown",
      "source": [
        "1d. Given the name list, use indexing to grab word “target”, the_list =\n",
        "[1,2,[3,4],[5,[100,200,['target']],23,11],1,7]"
      ],
      "metadata": {
        "id": "xVUUcXZF8I7e"
      }
    },
    {
      "cell_type": "code",
      "source": [
        "list = [1,2,[3,4],[5,[100,200,['target']],23,11],1,7]\n",
        "\n",
        "list"
      ],
      "metadata": {
        "colab": {
          "base_uri": "https://localhost:8080/"
        },
        "id": "XYsw1ovd8MD_",
        "outputId": "c86228ee-39d0-4545-c7d9-48dbb86dd2cc"
      },
      "execution_count": 5,
      "outputs": [
        {
          "output_type": "execute_result",
          "data": {
            "text/plain": [
              "[1, 2, [3, 4], [5, [100, 200, ['target']], 23, 11], 1, 7]"
            ]
          },
          "metadata": {},
          "execution_count": 5
        }
      ]
    }
  ]
}